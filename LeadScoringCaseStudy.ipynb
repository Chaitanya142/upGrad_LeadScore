{
 "cells": [
  {
   "cell_type": "markdown",
   "id": "668f7575-8a5e-4523-9c57-a642238ae3f4",
   "metadata": {},
   "source": [
    "# Lead Scoring Case Study"
   ]
  },
  {
   "cell_type": "markdown",
   "id": "e0e88cde-4c98-4074-8e90-4d43ec289e7f",
   "metadata": {},
   "source": [
    "\n",
    "An education company named X Education sells online courses to industry professionals. On any given day, many professionals who are interested in the courses land on their website and browse for courses. \n",
    " \n",
    "The company markets its courses on several websites and search engines like Google. Once these people land on the website, they might browse the courses or fill up a form for the course or watch some videos. When these people fill up a form providing their email address or phone number, they are classified to be a lead. Moreover, the company also gets leads through past referrals. Once these leads are acquired, employees from the sales team start making calls, writing emails, etc. Through this process, some of the leads get converted while most do not. The typical lead conversion rate at X education is around 30%. \n",
    " \n",
    "Now, although X Education gets a lot of leads, its lead conversion rate is very poor. For example, if, say, they acquire 100 leads in a day, only about 30 of them are converted. To make this process more efficient, the company wishes to identify the most potential leads, also known as ‘Hot Leads’. If they successfully identify this set of leads, the lead conversion rate should go up as the sales team will now be focusing more on communicating with the potential leads rather than making calls to everyone. A typical lead conversion process can be represented using the following funnel:"
   ]
  },
  {
   "cell_type": "markdown",
   "id": "6e18f9f3-f52e-421a-805c-d62f1bfdf928",
   "metadata": {},
   "source": [
    " <img src=\"https://cdn.upgrad.com/UpGrad/temp/189f213d-fade-4fe4-b506-865f1840a25a/XNote_201901081613670.jpg\" Alt= \"Lead Conversion Process - Demonstrated as a funnel\">"
   ]
  },
  {
   "cell_type": "markdown",
   "id": "33f2af3b-0f8f-48d7-8d66-856c06db8bc3",
   "metadata": {},
   "source": [
    "As you can see, there are a lot of leads generated in the initial stage (top) but only a few of them come out as paying customers from the bottom. In the middle stage, you need to nurture the potential leads well (i.e. educating the leads about the product, constantly communicating etc. ) in order to get a higher lead conversion.\n",
    " \n",
    "X Education has appointed you to help them select the most promising leads, i.e. the leads that are most likely to convert into paying customers. The company requires you to build a model wherein you need to assign a lead score to each of the leads such that the customers with a higher lead score have a higher conversion chance and the customers with a lower lead score have a lower conversion chance. The CEO, in particular, has given a ballpark of the target lead conversion rate to be around 80%."
   ]
  },
  {
   "cell_type": "markdown",
   "id": "7704bb80-d32b-4abe-8e82-570b7a8dabfd",
   "metadata": {},
   "source": [
    "Data\n",
    "> You have been provided with a leads dataset from the past with around 9000 data points. This dataset consists of various attributes such as Lead Source, Total Time Spent on Website, Total Visits, Last Activity, etc. which may or may not be useful in ultimately deciding whether a lead will be converted or not. The target variable, in this case, is the column ‘Converted’ which tells whether a past lead was converted or not wherein 1 means it was converted and 0 means it wasn’t converted. You can learn more about the dataset from the data dictionary provided in the zip folder at the end of the page. Another thing that you also need to check out are the levels present in the categorical variables. Many of the categorical variables have a level called 'Select' which needs to be handled because it is as good as a null value (think why?)."
   ]
  },
  {
   "cell_type": "markdown",
   "id": "d665aa2d-39e6-464c-b821-07d636fc916e",
   "metadata": {},
   "source": [
    "Goals of the Case Study\n",
    "There are quite a few goals for this case study:\n",
    "- Build a logistic regression model to assign a lead score between 0 and 100 to each of the leads which can be used by the company to target potential leads. A higher score would mean that the lead is hot, i.e. is most likely to convert whereas a lower score would mean that the lead is cold and will mostly not get converted."
   ]
  },
  {
   "cell_type": "markdown",
   "id": "82066ab1-ef69-4e97-9552-6be8f8f1e4af",
   "metadata": {},
   "source": [
    "### Import "
   ]
  },
  {
   "cell_type": "code",
   "execution_count": 4231,
   "id": "2af601d4-f4cd-44e1-9832-9bf705948c49",
   "metadata": {},
   "outputs": [],
   "source": [
    "# Importing Pandas and NumPy\n",
    "import pandas as pd, numpy as np\n",
    "import matplotlib.pyplot as plt\n",
    "import seaborn as sns"
   ]
  },
  {
   "cell_type": "code",
   "execution_count": 4232,
   "id": "38efc18c-eb22-406a-8b89-6afe89482e67",
   "metadata": {},
   "outputs": [],
   "source": [
    "# Suppressing Warnings\n",
    "import warnings\n",
    "warnings.filterwarnings('ignore')"
   ]
  },
  {
   "cell_type": "code",
   "execution_count": 4233,
   "id": "ab93796b-ecde-4b64-9534-34da8236a5c1",
   "metadata": {},
   "outputs": [
    {
     "data": {
      "text/html": [
       "<div>\n",
       "<style scoped>\n",
       "    .dataframe tbody tr th:only-of-type {\n",
       "        vertical-align: middle;\n",
       "    }\n",
       "\n",
       "    .dataframe tbody tr th {\n",
       "        vertical-align: top;\n",
       "    }\n",
       "\n",
       "    .dataframe thead th {\n",
       "        text-align: right;\n",
       "    }\n",
       "</style>\n",
       "<table border=\"1\" class=\"dataframe\">\n",
       "  <thead>\n",
       "    <tr style=\"text-align: right;\">\n",
       "      <th></th>\n",
       "      <th>Prospect ID</th>\n",
       "      <th>Lead Number</th>\n",
       "      <th>Lead Origin</th>\n",
       "      <th>Lead Source</th>\n",
       "      <th>Do Not Email</th>\n",
       "      <th>Do Not Call</th>\n",
       "      <th>Converted</th>\n",
       "      <th>TotalVisits</th>\n",
       "      <th>Total Time Spent on Website</th>\n",
       "      <th>Page Views Per Visit</th>\n",
       "      <th>...</th>\n",
       "      <th>Get updates on DM Content</th>\n",
       "      <th>Lead Profile</th>\n",
       "      <th>City</th>\n",
       "      <th>Asymmetrique Activity Index</th>\n",
       "      <th>Asymmetrique Profile Index</th>\n",
       "      <th>Asymmetrique Activity Score</th>\n",
       "      <th>Asymmetrique Profile Score</th>\n",
       "      <th>I agree to pay the amount through cheque</th>\n",
       "      <th>A free copy of Mastering The Interview</th>\n",
       "      <th>Last Notable Activity</th>\n",
       "    </tr>\n",
       "  </thead>\n",
       "  <tbody>\n",
       "    <tr>\n",
       "      <th>0</th>\n",
       "      <td>7927b2df-8bba-4d29-b9a2-b6e0beafe620</td>\n",
       "      <td>660737</td>\n",
       "      <td>API</td>\n",
       "      <td>Olark Chat</td>\n",
       "      <td>No</td>\n",
       "      <td>No</td>\n",
       "      <td>0</td>\n",
       "      <td>0.0</td>\n",
       "      <td>0</td>\n",
       "      <td>0.0</td>\n",
       "      <td>...</td>\n",
       "      <td>No</td>\n",
       "      <td>Select</td>\n",
       "      <td>Select</td>\n",
       "      <td>02.Medium</td>\n",
       "      <td>02.Medium</td>\n",
       "      <td>15.0</td>\n",
       "      <td>15.0</td>\n",
       "      <td>No</td>\n",
       "      <td>No</td>\n",
       "      <td>Modified</td>\n",
       "    </tr>\n",
       "    <tr>\n",
       "      <th>1</th>\n",
       "      <td>2a272436-5132-4136-86fa-dcc88c88f482</td>\n",
       "      <td>660728</td>\n",
       "      <td>API</td>\n",
       "      <td>Organic Search</td>\n",
       "      <td>No</td>\n",
       "      <td>No</td>\n",
       "      <td>0</td>\n",
       "      <td>5.0</td>\n",
       "      <td>674</td>\n",
       "      <td>2.5</td>\n",
       "      <td>...</td>\n",
       "      <td>No</td>\n",
       "      <td>Select</td>\n",
       "      <td>Select</td>\n",
       "      <td>02.Medium</td>\n",
       "      <td>02.Medium</td>\n",
       "      <td>15.0</td>\n",
       "      <td>15.0</td>\n",
       "      <td>No</td>\n",
       "      <td>No</td>\n",
       "      <td>Email Opened</td>\n",
       "    </tr>\n",
       "    <tr>\n",
       "      <th>2</th>\n",
       "      <td>8cc8c611-a219-4f35-ad23-fdfd2656bd8a</td>\n",
       "      <td>660727</td>\n",
       "      <td>Landing Page Submission</td>\n",
       "      <td>Direct Traffic</td>\n",
       "      <td>No</td>\n",
       "      <td>No</td>\n",
       "      <td>1</td>\n",
       "      <td>2.0</td>\n",
       "      <td>1532</td>\n",
       "      <td>2.0</td>\n",
       "      <td>...</td>\n",
       "      <td>No</td>\n",
       "      <td>Potential Lead</td>\n",
       "      <td>Mumbai</td>\n",
       "      <td>02.Medium</td>\n",
       "      <td>01.High</td>\n",
       "      <td>14.0</td>\n",
       "      <td>20.0</td>\n",
       "      <td>No</td>\n",
       "      <td>Yes</td>\n",
       "      <td>Email Opened</td>\n",
       "    </tr>\n",
       "    <tr>\n",
       "      <th>3</th>\n",
       "      <td>0cc2df48-7cf4-4e39-9de9-19797f9b38cc</td>\n",
       "      <td>660719</td>\n",
       "      <td>Landing Page Submission</td>\n",
       "      <td>Direct Traffic</td>\n",
       "      <td>No</td>\n",
       "      <td>No</td>\n",
       "      <td>0</td>\n",
       "      <td>1.0</td>\n",
       "      <td>305</td>\n",
       "      <td>1.0</td>\n",
       "      <td>...</td>\n",
       "      <td>No</td>\n",
       "      <td>Select</td>\n",
       "      <td>Mumbai</td>\n",
       "      <td>02.Medium</td>\n",
       "      <td>01.High</td>\n",
       "      <td>13.0</td>\n",
       "      <td>17.0</td>\n",
       "      <td>No</td>\n",
       "      <td>No</td>\n",
       "      <td>Modified</td>\n",
       "    </tr>\n",
       "    <tr>\n",
       "      <th>4</th>\n",
       "      <td>3256f628-e534-4826-9d63-4a8b88782852</td>\n",
       "      <td>660681</td>\n",
       "      <td>Landing Page Submission</td>\n",
       "      <td>Google</td>\n",
       "      <td>No</td>\n",
       "      <td>No</td>\n",
       "      <td>1</td>\n",
       "      <td>2.0</td>\n",
       "      <td>1428</td>\n",
       "      <td>1.0</td>\n",
       "      <td>...</td>\n",
       "      <td>No</td>\n",
       "      <td>Select</td>\n",
       "      <td>Mumbai</td>\n",
       "      <td>02.Medium</td>\n",
       "      <td>01.High</td>\n",
       "      <td>15.0</td>\n",
       "      <td>18.0</td>\n",
       "      <td>No</td>\n",
       "      <td>No</td>\n",
       "      <td>Modified</td>\n",
       "    </tr>\n",
       "  </tbody>\n",
       "</table>\n",
       "<p>5 rows × 37 columns</p>\n",
       "</div>"
      ],
      "text/plain": [
       "                            Prospect ID  Lead Number              Lead Origin  \\\n",
       "0  7927b2df-8bba-4d29-b9a2-b6e0beafe620       660737                      API   \n",
       "1  2a272436-5132-4136-86fa-dcc88c88f482       660728                      API   \n",
       "2  8cc8c611-a219-4f35-ad23-fdfd2656bd8a       660727  Landing Page Submission   \n",
       "3  0cc2df48-7cf4-4e39-9de9-19797f9b38cc       660719  Landing Page Submission   \n",
       "4  3256f628-e534-4826-9d63-4a8b88782852       660681  Landing Page Submission   \n",
       "\n",
       "      Lead Source Do Not Email Do Not Call  Converted  TotalVisits  \\\n",
       "0      Olark Chat           No          No          0          0.0   \n",
       "1  Organic Search           No          No          0          5.0   \n",
       "2  Direct Traffic           No          No          1          2.0   \n",
       "3  Direct Traffic           No          No          0          1.0   \n",
       "4          Google           No          No          1          2.0   \n",
       "\n",
       "   Total Time Spent on Website  Page Views Per Visit  ...  \\\n",
       "0                            0                   0.0  ...   \n",
       "1                          674                   2.5  ...   \n",
       "2                         1532                   2.0  ...   \n",
       "3                          305                   1.0  ...   \n",
       "4                         1428                   1.0  ...   \n",
       "\n",
       "  Get updates on DM Content    Lead Profile    City  \\\n",
       "0                        No          Select  Select   \n",
       "1                        No          Select  Select   \n",
       "2                        No  Potential Lead  Mumbai   \n",
       "3                        No          Select  Mumbai   \n",
       "4                        No          Select  Mumbai   \n",
       "\n",
       "  Asymmetrique Activity Index Asymmetrique Profile Index  \\\n",
       "0                   02.Medium                  02.Medium   \n",
       "1                   02.Medium                  02.Medium   \n",
       "2                   02.Medium                    01.High   \n",
       "3                   02.Medium                    01.High   \n",
       "4                   02.Medium                    01.High   \n",
       "\n",
       "  Asymmetrique Activity Score Asymmetrique Profile Score  \\\n",
       "0                        15.0                       15.0   \n",
       "1                        15.0                       15.0   \n",
       "2                        14.0                       20.0   \n",
       "3                        13.0                       17.0   \n",
       "4                        15.0                       18.0   \n",
       "\n",
       "  I agree to pay the amount through cheque  \\\n",
       "0                                       No   \n",
       "1                                       No   \n",
       "2                                       No   \n",
       "3                                       No   \n",
       "4                                       No   \n",
       "\n",
       "  A free copy of Mastering The Interview Last Notable Activity  \n",
       "0                                     No              Modified  \n",
       "1                                     No          Email Opened  \n",
       "2                                    Yes          Email Opened  \n",
       "3                                     No              Modified  \n",
       "4                                     No              Modified  \n",
       "\n",
       "[5 rows x 37 columns]"
      ]
     },
     "execution_count": 4233,
     "metadata": {},
     "output_type": "execute_result"
    }
   ],
   "source": [
    "# Import lead dataset\n",
    "lead_df = pd.read_csv(\"Leads.csv\")\n",
    "lead_df.head()"
   ]
  },
  {
   "cell_type": "markdown",
   "id": "11b0adaa-c892-4cb0-97b1-a4e744c2e7fa",
   "metadata": {},
   "source": [
    "### Data Check"
   ]
  },
  {
   "cell_type": "code",
   "execution_count": 4234,
   "id": "e70e061d-2ce6-4209-891b-d7e51562f4eb",
   "metadata": {},
   "outputs": [
    {
     "data": {
      "text/plain": [
       "(9240, 37)"
      ]
     },
     "execution_count": 4234,
     "metadata": {},
     "output_type": "execute_result"
    }
   ],
   "source": [
    "lead_df.shape"
   ]
  },
  {
   "cell_type": "code",
   "execution_count": 4235,
   "id": "cda26e36-f875-4d21-a94a-f5aad2252af2",
   "metadata": {},
   "outputs": [
    {
     "name": "stdout",
     "output_type": "stream",
     "text": [
      "<class 'pandas.core.frame.DataFrame'>\n",
      "RangeIndex: 9240 entries, 0 to 9239\n",
      "Data columns (total 37 columns):\n",
      " #   Column                                         Non-Null Count  Dtype  \n",
      "---  ------                                         --------------  -----  \n",
      " 0   Prospect ID                                    9240 non-null   object \n",
      " 1   Lead Number                                    9240 non-null   int64  \n",
      " 2   Lead Origin                                    9240 non-null   object \n",
      " 3   Lead Source                                    9204 non-null   object \n",
      " 4   Do Not Email                                   9240 non-null   object \n",
      " 5   Do Not Call                                    9240 non-null   object \n",
      " 6   Converted                                      9240 non-null   int64  \n",
      " 7   TotalVisits                                    9103 non-null   float64\n",
      " 8   Total Time Spent on Website                    9240 non-null   int64  \n",
      " 9   Page Views Per Visit                           9103 non-null   float64\n",
      " 10  Last Activity                                  9137 non-null   object \n",
      " 11  Country                                        6779 non-null   object \n",
      " 12  Specialization                                 7802 non-null   object \n",
      " 13  How did you hear about X Education             7033 non-null   object \n",
      " 14  What is your current occupation                6550 non-null   object \n",
      " 15  What matters most to you in choosing a course  6531 non-null   object \n",
      " 16  Search                                         9240 non-null   object \n",
      " 17  Magazine                                       9240 non-null   object \n",
      " 18  Newspaper Article                              9240 non-null   object \n",
      " 19  X Education Forums                             9240 non-null   object \n",
      " 20  Newspaper                                      9240 non-null   object \n",
      " 21  Digital Advertisement                          9240 non-null   object \n",
      " 22  Through Recommendations                        9240 non-null   object \n",
      " 23  Receive More Updates About Our Courses         9240 non-null   object \n",
      " 24  Tags                                           5887 non-null   object \n",
      " 25  Lead Quality                                   4473 non-null   object \n",
      " 26  Update me on Supply Chain Content              9240 non-null   object \n",
      " 27  Get updates on DM Content                      9240 non-null   object \n",
      " 28  Lead Profile                                   6531 non-null   object \n",
      " 29  City                                           7820 non-null   object \n",
      " 30  Asymmetrique Activity Index                    5022 non-null   object \n",
      " 31  Asymmetrique Profile Index                     5022 non-null   object \n",
      " 32  Asymmetrique Activity Score                    5022 non-null   float64\n",
      " 33  Asymmetrique Profile Score                     5022 non-null   float64\n",
      " 34  I agree to pay the amount through cheque       9240 non-null   object \n",
      " 35  A free copy of Mastering The Interview         9240 non-null   object \n",
      " 36  Last Notable Activity                          9240 non-null   object \n",
      "dtypes: float64(4), int64(3), object(30)\n",
      "memory usage: 2.6+ MB\n"
     ]
    }
   ],
   "source": [
    "# Check non null count and datatype of the variables\n",
    "lead_df.info()"
   ]
  },
  {
   "cell_type": "markdown",
   "id": "be597144-bba8-4cd8-919b-dade0d619a36",
   "metadata": {},
   "source": [
    "- Total 7 numeric columns and 30 categorical columns.\n",
    "- None of the columns have inconsistent datatype, hence no conversion is required."
   ]
  },
  {
   "cell_type": "code",
   "execution_count": 4236,
   "id": "d33dd056-bd17-414f-a1af-43d7e48ccb67",
   "metadata": {},
   "outputs": [],
   "source": [
    "# Remove if there are any duplicates\n",
    "lead_df.drop_duplicates(subset=None, inplace=True)"
   ]
  },
  {
   "cell_type": "code",
   "execution_count": 4237,
   "id": "2ff5dd5e-1504-4da9-8cb2-ea760fd8b5b9",
   "metadata": {},
   "outputs": [
    {
     "data": {
      "text/plain": [
       "(9240, 37)"
      ]
     },
     "execution_count": 4237,
     "metadata": {},
     "output_type": "execute_result"
    }
   ],
   "source": [
    "lead_df.shape"
   ]
  },
  {
   "cell_type": "code",
   "execution_count": 4238,
   "id": "748c012b-5de6-455a-b5bf-a05ace5ab9c2",
   "metadata": {},
   "outputs": [
    {
     "data": {
      "text/html": [
       "<div>\n",
       "<style scoped>\n",
       "    .dataframe tbody tr th:only-of-type {\n",
       "        vertical-align: middle;\n",
       "    }\n",
       "\n",
       "    .dataframe tbody tr th {\n",
       "        vertical-align: top;\n",
       "    }\n",
       "\n",
       "    .dataframe thead th {\n",
       "        text-align: right;\n",
       "    }\n",
       "</style>\n",
       "<table border=\"1\" class=\"dataframe\">\n",
       "  <thead>\n",
       "    <tr style=\"text-align: right;\">\n",
       "      <th></th>\n",
       "      <th>Lead Number</th>\n",
       "      <th>Converted</th>\n",
       "      <th>TotalVisits</th>\n",
       "      <th>Total Time Spent on Website</th>\n",
       "      <th>Page Views Per Visit</th>\n",
       "      <th>Asymmetrique Activity Score</th>\n",
       "      <th>Asymmetrique Profile Score</th>\n",
       "    </tr>\n",
       "  </thead>\n",
       "  <tbody>\n",
       "    <tr>\n",
       "      <th>count</th>\n",
       "      <td>9240.000000</td>\n",
       "      <td>9240.000000</td>\n",
       "      <td>9103.000000</td>\n",
       "      <td>9240.000000</td>\n",
       "      <td>9103.000000</td>\n",
       "      <td>5022.000000</td>\n",
       "      <td>5022.000000</td>\n",
       "    </tr>\n",
       "    <tr>\n",
       "      <th>mean</th>\n",
       "      <td>617188.435606</td>\n",
       "      <td>0.385390</td>\n",
       "      <td>3.445238</td>\n",
       "      <td>487.698268</td>\n",
       "      <td>2.362820</td>\n",
       "      <td>14.306252</td>\n",
       "      <td>16.344883</td>\n",
       "    </tr>\n",
       "    <tr>\n",
       "      <th>std</th>\n",
       "      <td>23405.995698</td>\n",
       "      <td>0.486714</td>\n",
       "      <td>4.854853</td>\n",
       "      <td>548.021466</td>\n",
       "      <td>2.161418</td>\n",
       "      <td>1.386694</td>\n",
       "      <td>1.811395</td>\n",
       "    </tr>\n",
       "    <tr>\n",
       "      <th>min</th>\n",
       "      <td>579533.000000</td>\n",
       "      <td>0.000000</td>\n",
       "      <td>0.000000</td>\n",
       "      <td>0.000000</td>\n",
       "      <td>0.000000</td>\n",
       "      <td>7.000000</td>\n",
       "      <td>11.000000</td>\n",
       "    </tr>\n",
       "    <tr>\n",
       "      <th>25%</th>\n",
       "      <td>596484.500000</td>\n",
       "      <td>0.000000</td>\n",
       "      <td>1.000000</td>\n",
       "      <td>12.000000</td>\n",
       "      <td>1.000000</td>\n",
       "      <td>14.000000</td>\n",
       "      <td>15.000000</td>\n",
       "    </tr>\n",
       "    <tr>\n",
       "      <th>50%</th>\n",
       "      <td>615479.000000</td>\n",
       "      <td>0.000000</td>\n",
       "      <td>3.000000</td>\n",
       "      <td>248.000000</td>\n",
       "      <td>2.000000</td>\n",
       "      <td>14.000000</td>\n",
       "      <td>16.000000</td>\n",
       "    </tr>\n",
       "    <tr>\n",
       "      <th>75%</th>\n",
       "      <td>637387.250000</td>\n",
       "      <td>1.000000</td>\n",
       "      <td>5.000000</td>\n",
       "      <td>936.000000</td>\n",
       "      <td>3.000000</td>\n",
       "      <td>15.000000</td>\n",
       "      <td>18.000000</td>\n",
       "    </tr>\n",
       "    <tr>\n",
       "      <th>max</th>\n",
       "      <td>660737.000000</td>\n",
       "      <td>1.000000</td>\n",
       "      <td>251.000000</td>\n",
       "      <td>2272.000000</td>\n",
       "      <td>55.000000</td>\n",
       "      <td>18.000000</td>\n",
       "      <td>20.000000</td>\n",
       "    </tr>\n",
       "  </tbody>\n",
       "</table>\n",
       "</div>"
      ],
      "text/plain": [
       "         Lead Number    Converted  TotalVisits  Total Time Spent on Website  \\\n",
       "count    9240.000000  9240.000000  9103.000000                  9240.000000   \n",
       "mean   617188.435606     0.385390     3.445238                   487.698268   \n",
       "std     23405.995698     0.486714     4.854853                   548.021466   \n",
       "min    579533.000000     0.000000     0.000000                     0.000000   \n",
       "25%    596484.500000     0.000000     1.000000                    12.000000   \n",
       "50%    615479.000000     0.000000     3.000000                   248.000000   \n",
       "75%    637387.250000     1.000000     5.000000                   936.000000   \n",
       "max    660737.000000     1.000000   251.000000                  2272.000000   \n",
       "\n",
       "       Page Views Per Visit  Asymmetrique Activity Score  \\\n",
       "count           9103.000000                  5022.000000   \n",
       "mean               2.362820                    14.306252   \n",
       "std                2.161418                     1.386694   \n",
       "min                0.000000                     7.000000   \n",
       "25%                1.000000                    14.000000   \n",
       "50%                2.000000                    14.000000   \n",
       "75%                3.000000                    15.000000   \n",
       "max               55.000000                    18.000000   \n",
       "\n",
       "       Asymmetrique Profile Score  \n",
       "count                 5022.000000  \n",
       "mean                    16.344883  \n",
       "std                      1.811395  \n",
       "min                     11.000000  \n",
       "25%                     15.000000  \n",
       "50%                     16.000000  \n",
       "75%                     18.000000  \n",
       "max                     20.000000  "
      ]
     },
     "execution_count": 4238,
     "metadata": {},
     "output_type": "execute_result"
    }
   ],
   "source": [
    "#Statistical summary of dataset:-\n",
    "\n",
    "lead_df.describe()"
   ]
  },
  {
   "cell_type": "markdown",
   "id": "0d9b254a-258b-4219-bf22-475294769945",
   "metadata": {},
   "source": [
    "Column 'TotalVisits','Total Time Spent on Website','Page Views Per Visit' having outliers ,because there is significant difference between average and max values."
   ]
  },
  {
   "cell_type": "code",
   "execution_count": 4239,
   "id": "1aa9fc56-f54f-47c7-ac6b-f177446336e0",
   "metadata": {},
   "outputs": [],
   "source": [
    "# As per problem statement few columns have value 'Select'. Let us find the columns"
   ]
  },
  {
   "cell_type": "code",
   "execution_count": 4240,
   "id": "e1672373-f2cf-4c13-914b-ad1d282630bd",
   "metadata": {},
   "outputs": [
    {
     "name": "stdout",
     "output_type": "stream",
     "text": [
      "Specialization\n",
      "How did you hear about X Education\n",
      "Lead Profile\n",
      "City\n"
     ]
    }
   ],
   "source": [
    "cols=list(lead_df.columns)\n",
    "for i in cols:\n",
    "    if 'Select' in lead_df[i].values:\n",
    "        print(i)"
   ]
  },
  {
   "cell_type": "code",
   "execution_count": 4241,
   "id": "31186930-cf42-4671-91c0-51471ded0ae5",
   "metadata": {},
   "outputs": [],
   "source": [
    "# Looks like from column names user has not selected value, so we can replace those to nulls"
   ]
  },
  {
   "cell_type": "code",
   "execution_count": 4242,
   "id": "53ffead3-f721-42f6-b704-35a95438e9e8",
   "metadata": {},
   "outputs": [],
   "source": [
    "# Imputing 'Select' with NaN'  :-\n",
    "\n",
    "lead_df = lead_df.replace('Select', np.nan)"
   ]
  },
  {
   "cell_type": "code",
   "execution_count": 4243,
   "id": "df85b61b-5d60-4906-83ef-e0ebb941217e",
   "metadata": {},
   "outputs": [],
   "source": [
    "# Check if Select value is present"
   ]
  },
  {
   "cell_type": "code",
   "execution_count": 4244,
   "id": "0723e9e2-fdc8-478a-afda-2f71628be11e",
   "metadata": {},
   "outputs": [],
   "source": [
    "cols=list(lead_df.columns)\n",
    "for i in cols:\n",
    "    if 'Select' in lead_df[i].values:\n",
    "        print(i)"
   ]
  },
  {
   "cell_type": "code",
   "execution_count": 4245,
   "id": "71bc5cec-b789-45b1-87d8-d7b4ffeebb6c",
   "metadata": {},
   "outputs": [
    {
     "data": {
      "text/plain": [
       "Prospect ID                                         0\n",
       "Lead Number                                         0\n",
       "Lead Origin                                         0\n",
       "Lead Source                                        36\n",
       "Do Not Email                                        0\n",
       "Do Not Call                                         0\n",
       "Converted                                           0\n",
       "TotalVisits                                       137\n",
       "Total Time Spent on Website                         0\n",
       "Page Views Per Visit                              137\n",
       "Last Activity                                     103\n",
       "Country                                          2461\n",
       "Specialization                                   3380\n",
       "How did you hear about X Education               7250\n",
       "What is your current occupation                  2690\n",
       "What matters most to you in choosing a course    2709\n",
       "Search                                              0\n",
       "Magazine                                            0\n",
       "Newspaper Article                                   0\n",
       "X Education Forums                                  0\n",
       "Newspaper                                           0\n",
       "Digital Advertisement                               0\n",
       "Through Recommendations                             0\n",
       "Receive More Updates About Our Courses              0\n",
       "Tags                                             3353\n",
       "Lead Quality                                     4767\n",
       "Update me on Supply Chain Content                   0\n",
       "Get updates on DM Content                           0\n",
       "Lead Profile                                     6855\n",
       "City                                             3669\n",
       "Asymmetrique Activity Index                      4218\n",
       "Asymmetrique Profile Index                       4218\n",
       "Asymmetrique Activity Score                      4218\n",
       "Asymmetrique Profile Score                       4218\n",
       "I agree to pay the amount through cheque            0\n",
       "A free copy of Mastering The Interview              0\n",
       "Last Notable Activity                               0\n",
       "dtype: int64"
      ]
     },
     "execution_count": 4245,
     "metadata": {},
     "output_type": "execute_result"
    }
   ],
   "source": [
    "# Checking Null values\n",
    "lead_df.isnull().sum()"
   ]
  },
  {
   "cell_type": "code",
   "execution_count": 4246,
   "id": "34379fbb-8213-4a87-8080-6324a00e243c",
   "metadata": {},
   "outputs": [
    {
     "data": {
      "text/plain": [
       "Prospect ID                                       0.00\n",
       "Lead Number                                       0.00\n",
       "Lead Origin                                       0.00\n",
       "Lead Source                                       0.39\n",
       "Do Not Email                                      0.00\n",
       "Do Not Call                                       0.00\n",
       "Converted                                         0.00\n",
       "TotalVisits                                       1.48\n",
       "Total Time Spent on Website                       0.00\n",
       "Page Views Per Visit                              1.48\n",
       "Last Activity                                     1.11\n",
       "Country                                          26.63\n",
       "Specialization                                   36.58\n",
       "How did you hear about X Education               78.46\n",
       "What is your current occupation                  29.11\n",
       "What matters most to you in choosing a course    29.32\n",
       "Search                                            0.00\n",
       "Magazine                                          0.00\n",
       "Newspaper Article                                 0.00\n",
       "X Education Forums                                0.00\n",
       "Newspaper                                         0.00\n",
       "Digital Advertisement                             0.00\n",
       "Through Recommendations                           0.00\n",
       "Receive More Updates About Our Courses            0.00\n",
       "Tags                                             36.29\n",
       "Lead Quality                                     51.59\n",
       "Update me on Supply Chain Content                 0.00\n",
       "Get updates on DM Content                         0.00\n",
       "Lead Profile                                     74.19\n",
       "City                                             39.71\n",
       "Asymmetrique Activity Index                      45.65\n",
       "Asymmetrique Profile Index                       45.65\n",
       "Asymmetrique Activity Score                      45.65\n",
       "Asymmetrique Profile Score                       45.65\n",
       "I agree to pay the amount through cheque          0.00\n",
       "A free copy of Mastering The Interview            0.00\n",
       "Last Notable Activity                             0.00\n",
       "dtype: float64"
      ]
     },
     "execution_count": 4246,
     "metadata": {},
     "output_type": "execute_result"
    }
   ],
   "source": [
    "# % of null values\n",
    "round(100*(lead_df.isnull().sum()/len(lead_df)),2)"
   ]
  },
  {
   "cell_type": "code",
   "execution_count": 4247,
   "id": "e03c49ba-e216-4b70-97fd-86007fc95ba6",
   "metadata": {},
   "outputs": [],
   "source": [
    "#Let us remove columns having more than 30% null values"
   ]
  },
  {
   "cell_type": "code",
   "execution_count": 4248,
   "id": "110e936e-a2c6-4941-990b-289069b67918",
   "metadata": {},
   "outputs": [],
   "source": [
    "missing_columns_30 = lead_df.columns[100*(lead_df.isnull().sum()/len(lead_df)) > 30]"
   ]
  },
  {
   "cell_type": "code",
   "execution_count": 4249,
   "id": "9ad93d86-caac-4c01-8636-156606edaa09",
   "metadata": {},
   "outputs": [
    {
     "data": {
      "text/plain": [
       "Index(['Specialization', 'How did you hear about X Education', 'Tags',\n",
       "       'Lead Quality', 'Lead Profile', 'City', 'Asymmetrique Activity Index',\n",
       "       'Asymmetrique Profile Index', 'Asymmetrique Activity Score',\n",
       "       'Asymmetrique Profile Score'],\n",
       "      dtype='object')"
      ]
     },
     "execution_count": 4249,
     "metadata": {},
     "output_type": "execute_result"
    }
   ],
   "source": [
    "missing_columns_30"
   ]
  },
  {
   "cell_type": "code",
   "execution_count": 4250,
   "id": "a824ca61-9884-4fae-9956-c2b3ae9b45d8",
   "metadata": {},
   "outputs": [],
   "source": [
    "# Specialization can be set to Others\n",
    "missing_columns_30 = missing_columns_30.drop('Specialization')"
   ]
  },
  {
   "cell_type": "code",
   "execution_count": 4251,
   "id": "36bef337-e95a-46f1-bb64-7ff497b1ddc9",
   "metadata": {},
   "outputs": [],
   "source": [
    "lead_df = lead_df.drop(missing_columns_30, axis=1).copy()"
   ]
  },
  {
   "cell_type": "code",
   "execution_count": 4252,
   "id": "573263a2-cd3a-4d68-9093-356a59490a6c",
   "metadata": {},
   "outputs": [
    {
     "data": {
      "text/plain": [
       "(9240, 28)"
      ]
     },
     "execution_count": 4252,
     "metadata": {},
     "output_type": "execute_result"
    }
   ],
   "source": [
    "lead_df.shape"
   ]
  },
  {
   "cell_type": "code",
   "execution_count": 4253,
   "id": "3c355280-01a8-4ef5-a61f-3ad8d5810c0a",
   "metadata": {},
   "outputs": [
    {
     "data": {
      "text/plain": [
       "Prospect ID                                       0.00\n",
       "Lead Number                                       0.00\n",
       "Lead Origin                                       0.00\n",
       "Lead Source                                       0.39\n",
       "Do Not Email                                      0.00\n",
       "Do Not Call                                       0.00\n",
       "Converted                                         0.00\n",
       "TotalVisits                                       1.48\n",
       "Total Time Spent on Website                       0.00\n",
       "Page Views Per Visit                              1.48\n",
       "Last Activity                                     1.11\n",
       "Country                                          26.63\n",
       "Specialization                                   36.58\n",
       "What is your current occupation                  29.11\n",
       "What matters most to you in choosing a course    29.32\n",
       "Search                                            0.00\n",
       "Magazine                                          0.00\n",
       "Newspaper Article                                 0.00\n",
       "X Education Forums                                0.00\n",
       "Newspaper                                         0.00\n",
       "Digital Advertisement                             0.00\n",
       "Through Recommendations                           0.00\n",
       "Receive More Updates About Our Courses            0.00\n",
       "Update me on Supply Chain Content                 0.00\n",
       "Get updates on DM Content                         0.00\n",
       "I agree to pay the amount through cheque          0.00\n",
       "A free copy of Mastering The Interview            0.00\n",
       "Last Notable Activity                             0.00\n",
       "dtype: float64"
      ]
     },
     "execution_count": 4253,
     "metadata": {},
     "output_type": "execute_result"
    }
   ],
   "source": [
    "# Checking the remaining columns for missing values:-\n",
    "\n",
    "round(100*(lead_df.isnull().sum()/len(lead_df)),2)"
   ]
  },
  {
   "cell_type": "code",
   "execution_count": 4254,
   "id": "e84f5ff9-1c7f-42fa-b557-f377da1f76b7",
   "metadata": {},
   "outputs": [],
   "source": [
    "# Let us handle columns one by one"
   ]
  },
  {
   "cell_type": "code",
   "execution_count": 4255,
   "id": "bb6db8a2-7dec-49c2-821b-730fa692c0a3",
   "metadata": {},
   "outputs": [
    {
     "data": {
      "image/png": "[encoded data removed]",
      "text/plain": [
       "<Figure size 1500x500 with 1 Axes>"
      ]
     },
     "metadata": {},
     "output_type": "display_data"
    }
   ],
   "source": [
    "# Plotting count plot of 'Specialization' to see the data distribution:-\n",
    "\n",
    "plt.figure(figsize=(15,5))\n",
    "sns.countplot(lead_df['Specialization'])\n",
    "plt.xticks(rotation=90)\n",
    "plt.show()"
   ]
  },
  {
   "cell_type": "code",
   "execution_count": 4256,
   "id": "3572d083-b5be-474a-a630-9b5d255cc8c0",
   "metadata": {},
   "outputs": [],
   "source": [
    "# We can say student has not decided specialization while filling the form. So we can replace it with 'Others'"
   ]
  },
  {
   "cell_type": "code",
   "execution_count": 4257,
   "id": "66e05de7-b449-4184-9e3b-5e3577b07261",
   "metadata": {},
   "outputs": [],
   "source": [
    "lead_df['Specialization'].fillna('Others',inplace=True)"
   ]
  },
  {
   "cell_type": "code",
   "execution_count": 4258,
   "id": "a2eeecbb-3625-47ca-9cde-323a7c23f25f",
   "metadata": {},
   "outputs": [
    {
     "data": {
      "text/plain": [
       "Specialization\n",
       "Others                               3380\n",
       "Finance Management                    976\n",
       "Human Resource Management             848\n",
       "Marketing Management                  838\n",
       "Operations Management                 503\n",
       "Business Administration               403\n",
       "IT Projects Management                366\n",
       "Supply Chain Management               349\n",
       "Banking, Investment And Insurance     338\n",
       "Travel and Tourism                    203\n",
       "Media and Advertising                 203\n",
       "International Business                178\n",
       "Healthcare Management                 159\n",
       "Hospitality Management                114\n",
       "E-COMMERCE                            112\n",
       "Retail Management                     100\n",
       "Rural and Agribusiness                 73\n",
       "E-Business                             57\n",
       "Services Excellence                    40\n",
       "Name: count, dtype: int64"
      ]
     },
     "execution_count": 4258,
     "metadata": {},
     "output_type": "execute_result"
    }
   ],
   "source": [
    "lead_df['Specialization'].value_counts()"
   ]
  },
  {
   "cell_type": "code",
   "execution_count": 4259,
   "id": "b405e22a-b8c0-4c66-90ca-5eac33b9b477",
   "metadata": {},
   "outputs": [
    {
     "data": {
      "text/plain": [
       "What is your current occupation\n",
       "Unemployed              5600\n",
       "Working Professional     706\n",
       "Student                  210\n",
       "Other                     16\n",
       "Housewife                 10\n",
       "Businessman                8\n",
       "Name: count, dtype: int64"
      ]
     },
     "execution_count": 4259,
     "metadata": {},
     "output_type": "execute_result"
    }
   ],
   "source": [
    "lead_df['What is your current occupation'].value_counts()"
   ]
  },
  {
   "cell_type": "code",
   "execution_count": 4260,
   "id": "5c63af41-cab0-40c3-a2b4-1dcb40ab305f",
   "metadata": {},
   "outputs": [
    {
     "data": {
      "image/png": "[encoded data removed]",
      "text/plain": [
       "<Figure size 1500x500 with 1 Axes>"
      ]
     },
     "metadata": {},
     "output_type": "display_data"
    }
   ],
   "source": [
    "plt.figure(figsize=(15,5))\n",
    "sns.countplot(lead_df['What is your current occupation'])\n",
    "plt.show()"
   ]
  },
  {
   "cell_type": "code",
   "execution_count": 4261,
   "id": "f83be820-1636-4100-a477-45cd37372c6b",
   "metadata": {},
   "outputs": [],
   "source": [
    "# Unemployed are highest."
   ]
  },
  {
   "cell_type": "code",
   "execution_count": 4262,
   "id": "6e1dce6d-3df6-457b-83b7-6198e6c2dfc8",
   "metadata": {},
   "outputs": [],
   "source": [
    "lead_df['What is your current occupation'].fillna('Unemployed',inplace=True)"
   ]
  },
  {
   "cell_type": "code",
   "execution_count": 4263,
   "id": "6d517f4a-fded-4beb-8a3a-24708e9a0e63",
   "metadata": {},
   "outputs": [
    {
     "data": {
      "text/plain": [
       "What is your current occupation\n",
       "Unemployed              8290\n",
       "Working Professional     706\n",
       "Student                  210\n",
       "Other                     16\n",
       "Housewife                 10\n",
       "Businessman                8\n",
       "Name: count, dtype: int64"
      ]
     },
     "execution_count": 4263,
     "metadata": {},
     "output_type": "execute_result"
    }
   ],
   "source": [
    "lead_df['What is your current occupation'].value_counts()"
   ]
  },
  {
   "cell_type": "code",
   "execution_count": 4264,
   "id": "8ed38ac2-ca25-44d2-b232-888084abb1cf",
   "metadata": {},
   "outputs": [
    {
     "data": {
      "text/plain": [
       "What matters most to you in choosing a course\n",
       "Better Career Prospects      99.954065\n",
       "Flexibility & Convenience     0.030623\n",
       "Other                         0.015312\n",
       "Name: proportion, dtype: float64"
      ]
     },
     "execution_count": 4264,
     "metadata": {},
     "output_type": "execute_result"
    }
   ],
   "source": [
    "lead_df['What matters most to you in choosing a course'].value_counts(normalize=True)*100"
   ]
  },
  {
   "cell_type": "code",
   "execution_count": 4265,
   "id": "8c8a4013-0fe3-4904-b419-69437a8c45ee",
   "metadata": {},
   "outputs": [],
   "source": [
    "# Almost 99.9% people are saying Better career prospect\n",
    "# Lets replace null values with that "
   ]
  },
  {
   "cell_type": "code",
   "execution_count": 4266,
   "id": "2f2377c9-50a6-4024-8627-92d6bc7e80cd",
   "metadata": {},
   "outputs": [],
   "source": [
    "lead_df['What matters most to you in choosing a course'].fillna('Better Career Prospects',inplace=True)"
   ]
  },
  {
   "cell_type": "code",
   "execution_count": 4267,
   "id": "d0cd3fd4-0bd8-48eb-812e-137bd3735dbe",
   "metadata": {},
   "outputs": [
    {
     "data": {
      "text/plain": [
       "What matters most to you in choosing a course\n",
       "Better Career Prospects      99.967532\n",
       "Flexibility & Convenience     0.021645\n",
       "Other                         0.010823\n",
       "Name: proportion, dtype: float64"
      ]
     },
     "execution_count": 4267,
     "metadata": {},
     "output_type": "execute_result"
    }
   ],
   "source": [
    "lead_df['What matters most to you in choosing a course'].value_counts(normalize=True)*100"
   ]
  },
  {
   "cell_type": "code",
   "execution_count": 4268,
   "id": "7e174d7a-3616-44e4-b48e-f5c8c85fb353",
   "metadata": {},
   "outputs": [
    {
     "data": {
      "text/plain": [
       "Country\n",
       "India                   95.766337\n",
       "United States            1.017849\n",
       "United Arab Emirates     0.781826\n",
       "Singapore                0.354035\n",
       "Saudi Arabia             0.309780\n",
       "United Kingdom           0.221272\n",
       "Australia                0.191769\n",
       "Qatar                    0.147514\n",
       "Hong Kong                0.103260\n",
       "Bahrain                  0.103260\n",
       "Oman                     0.088509\n",
       "France                   0.088509\n",
       "unknown                  0.073757\n",
       "South Africa             0.059006\n",
       "Nigeria                  0.059006\n",
       "Germany                  0.059006\n",
       "Kuwait                   0.059006\n",
       "Canada                   0.059006\n",
       "Sweden                   0.044254\n",
       "China                    0.029503\n",
       "Asia/Pacific Region      0.029503\n",
       "Uganda                   0.029503\n",
       "Bangladesh               0.029503\n",
       "Italy                    0.029503\n",
       "Belgium                  0.029503\n",
       "Netherlands              0.029503\n",
       "Ghana                    0.029503\n",
       "Philippines              0.029503\n",
       "Russia                   0.014751\n",
       "Switzerland              0.014751\n",
       "Vietnam                  0.014751\n",
       "Denmark                  0.014751\n",
       "Tanzania                 0.014751\n",
       "Liberia                  0.014751\n",
       "Malaysia                 0.014751\n",
       "Kenya                    0.014751\n",
       "Sri Lanka                0.014751\n",
       "Indonesia                0.014751\n",
       "Name: proportion, dtype: float64"
      ]
     },
     "execution_count": 4268,
     "metadata": {},
     "output_type": "execute_result"
    }
   ],
   "source": [
    "lead_df['Country'].value_counts(normalize=True)*100"
   ]
  },
  {
   "cell_type": "code",
   "execution_count": 4269,
   "id": "aa989ec8-3fa8-4b30-bd5a-02a4801feb33",
   "metadata": {},
   "outputs": [],
   "source": [
    "# Impute data with 'India'"
   ]
  },
  {
   "cell_type": "code",
   "execution_count": 4270,
   "id": "6229c566-0c92-44ab-8840-b0efee0589a7",
   "metadata": {},
   "outputs": [],
   "source": [
    "lead_df['Country'].fillna('India',inplace=True)"
   ]
  },
  {
   "cell_type": "code",
   "execution_count": 4271,
   "id": "00f18ec9-0ae5-4714-90ef-01b669944917",
   "metadata": {},
   "outputs": [
    {
     "data": {
      "text/plain": [
       "Prospect ID                                      0.00\n",
       "Lead Number                                      0.00\n",
       "Lead Origin                                      0.00\n",
       "Lead Source                                      0.39\n",
       "Do Not Email                                     0.00\n",
       "Do Not Call                                      0.00\n",
       "Converted                                        0.00\n",
       "TotalVisits                                      1.48\n",
       "Total Time Spent on Website                      0.00\n",
       "Page Views Per Visit                             1.48\n",
       "Last Activity                                    1.11\n",
       "Country                                          0.00\n",
       "Specialization                                   0.00\n",
       "What is your current occupation                  0.00\n",
       "What matters most to you in choosing a course    0.00\n",
       "Search                                           0.00\n",
       "Magazine                                         0.00\n",
       "Newspaper Article                                0.00\n",
       "X Education Forums                               0.00\n",
       "Newspaper                                        0.00\n",
       "Digital Advertisement                            0.00\n",
       "Through Recommendations                          0.00\n",
       "Receive More Updates About Our Courses           0.00\n",
       "Update me on Supply Chain Content                0.00\n",
       "Get updates on DM Content                        0.00\n",
       "I agree to pay the amount through cheque         0.00\n",
       "A free copy of Mastering The Interview           0.00\n",
       "Last Notable Activity                            0.00\n",
       "dtype: float64"
      ]
     },
     "execution_count": 4271,
     "metadata": {},
     "output_type": "execute_result"
    }
   ],
   "source": [
    "round(100*(lead_df.isnull().sum()/len(lead_df)),2)"
   ]
  },
  {
   "cell_type": "code",
   "execution_count": 4272,
   "id": "35dc69ef-f679-426c-bde8-9beacfae04c6",
   "metadata": {},
   "outputs": [],
   "source": [
    "# Drop the rows where data is null as % is very low"
   ]
  },
  {
   "cell_type": "code",
   "execution_count": 4273,
   "id": "d2dd8e71-1454-4daa-99b8-092cab00a0ce",
   "metadata": {},
   "outputs": [],
   "source": [
    "lead_df.dropna(inplace = True)"
   ]
  },
  {
   "cell_type": "code",
   "execution_count": 4274,
   "id": "08f93f43-f1df-4083-81a0-07a899a3d322",
   "metadata": {},
   "outputs": [
    {
     "data": {
      "text/plain": [
       "Prospect ID                                      0.0\n",
       "Lead Number                                      0.0\n",
       "Lead Origin                                      0.0\n",
       "Lead Source                                      0.0\n",
       "Do Not Email                                     0.0\n",
       "Do Not Call                                      0.0\n",
       "Converted                                        0.0\n",
       "TotalVisits                                      0.0\n",
       "Total Time Spent on Website                      0.0\n",
       "Page Views Per Visit                             0.0\n",
       "Last Activity                                    0.0\n",
       "Country                                          0.0\n",
       "Specialization                                   0.0\n",
       "What is your current occupation                  0.0\n",
       "What matters most to you in choosing a course    0.0\n",
       "Search                                           0.0\n",
       "Magazine                                         0.0\n",
       "Newspaper Article                                0.0\n",
       "X Education Forums                               0.0\n",
       "Newspaper                                        0.0\n",
       "Digital Advertisement                            0.0\n",
       "Through Recommendations                          0.0\n",
       "Receive More Updates About Our Courses           0.0\n",
       "Update me on Supply Chain Content                0.0\n",
       "Get updates on DM Content                        0.0\n",
       "I agree to pay the amount through cheque         0.0\n",
       "A free copy of Mastering The Interview           0.0\n",
       "Last Notable Activity                            0.0\n",
       "dtype: float64"
      ]
     },
     "execution_count": 4274,
     "metadata": {},
     "output_type": "execute_result"
    }
   ],
   "source": [
    "round(100*(lead_df.isnull().sum()/len(lead_df)),2)\n"
   ]
  },
  {
   "cell_type": "code",
   "execution_count": 4275,
   "id": "1ea210b6-85d6-40c6-96fb-b9efc7cab70a",
   "metadata": {},
   "outputs": [
    {
     "data": {
      "text/plain": [
       "98.2034632034632"
      ]
     },
     "execution_count": 4275,
     "metadata": {},
     "output_type": "execute_result"
    }
   ],
   "source": [
    "# Percentage of rows retained \n",
    "(len(lead_df.index)/9240)*100"
   ]
  },
  {
   "cell_type": "code",
   "execution_count": 4276,
   "id": "7c57c11d-2382-4c68-980e-82772f7bd214",
   "metadata": {},
   "outputs": [
    {
     "data": {
      "text/html": [
       "<div>\n",
       "<style scoped>\n",
       "    .dataframe tbody tr th:only-of-type {\n",
       "        vertical-align: middle;\n",
       "    }\n",
       "\n",
       "    .dataframe tbody tr th {\n",
       "        vertical-align: top;\n",
       "    }\n",
       "\n",
       "    .dataframe thead th {\n",
       "        text-align: right;\n",
       "    }\n",
       "</style>\n",
       "<table border=\"1\" class=\"dataframe\">\n",
       "  <thead>\n",
       "    <tr style=\"text-align: right;\">\n",
       "      <th></th>\n",
       "      <th>Prospect ID</th>\n",
       "      <th>Lead Number</th>\n",
       "      <th>Lead Origin</th>\n",
       "      <th>Lead Source</th>\n",
       "      <th>Do Not Email</th>\n",
       "      <th>Do Not Call</th>\n",
       "      <th>Converted</th>\n",
       "      <th>TotalVisits</th>\n",
       "      <th>Total Time Spent on Website</th>\n",
       "      <th>Page Views Per Visit</th>\n",
       "      <th>...</th>\n",
       "      <th>X Education Forums</th>\n",
       "      <th>Newspaper</th>\n",
       "      <th>Digital Advertisement</th>\n",
       "      <th>Through Recommendations</th>\n",
       "      <th>Receive More Updates About Our Courses</th>\n",
       "      <th>Update me on Supply Chain Content</th>\n",
       "      <th>Get updates on DM Content</th>\n",
       "      <th>I agree to pay the amount through cheque</th>\n",
       "      <th>A free copy of Mastering The Interview</th>\n",
       "      <th>Last Notable Activity</th>\n",
       "    </tr>\n",
       "  </thead>\n",
       "  <tbody>\n",
       "    <tr>\n",
       "      <th>0</th>\n",
       "      <td>7927b2df-8bba-4d29-b9a2-b6e0beafe620</td>\n",
       "      <td>660737</td>\n",
       "      <td>API</td>\n",
       "      <td>Olark Chat</td>\n",
       "      <td>No</td>\n",
       "      <td>No</td>\n",
       "      <td>0</td>\n",
       "      <td>0.0</td>\n",
       "      <td>0</td>\n",
       "      <td>0.0</td>\n",
       "      <td>...</td>\n",
       "      <td>No</td>\n",
       "      <td>No</td>\n",
       "      <td>No</td>\n",
       "      <td>No</td>\n",
       "      <td>No</td>\n",
       "      <td>No</td>\n",
       "      <td>No</td>\n",
       "      <td>No</td>\n",
       "      <td>No</td>\n",
       "      <td>Modified</td>\n",
       "    </tr>\n",
       "    <tr>\n",
       "      <th>1</th>\n",
       "      <td>2a272436-5132-4136-86fa-dcc88c88f482</td>\n",
       "      <td>660728</td>\n",
       "      <td>API</td>\n",
       "      <td>Organic Search</td>\n",
       "      <td>No</td>\n",
       "      <td>No</td>\n",
       "      <td>0</td>\n",
       "      <td>5.0</td>\n",
       "      <td>674</td>\n",
       "      <td>2.5</td>\n",
       "      <td>...</td>\n",
       "      <td>No</td>\n",
       "      <td>No</td>\n",
       "      <td>No</td>\n",
       "      <td>No</td>\n",
       "      <td>No</td>\n",
       "      <td>No</td>\n",
       "      <td>No</td>\n",
       "      <td>No</td>\n",
       "      <td>No</td>\n",
       "      <td>Email Opened</td>\n",
       "    </tr>\n",
       "    <tr>\n",
       "      <th>2</th>\n",
       "      <td>8cc8c611-a219-4f35-ad23-fdfd2656bd8a</td>\n",
       "      <td>660727</td>\n",
       "      <td>Landing Page Submission</td>\n",
       "      <td>Direct Traffic</td>\n",
       "      <td>No</td>\n",
       "      <td>No</td>\n",
       "      <td>1</td>\n",
       "      <td>2.0</td>\n",
       "      <td>1532</td>\n",
       "      <td>2.0</td>\n",
       "      <td>...</td>\n",
       "      <td>No</td>\n",
       "      <td>No</td>\n",
       "      <td>No</td>\n",
       "      <td>No</td>\n",
       "      <td>No</td>\n",
       "      <td>No</td>\n",
       "      <td>No</td>\n",
       "      <td>No</td>\n",
       "      <td>Yes</td>\n",
       "      <td>Email Opened</td>\n",
       "    </tr>\n",
       "    <tr>\n",
       "      <th>3</th>\n",
       "      <td>0cc2df48-7cf4-4e39-9de9-19797f9b38cc</td>\n",
       "      <td>660719</td>\n",
       "      <td>Landing Page Submission</td>\n",
       "      <td>Direct Traffic</td>\n",
       "      <td>No</td>\n",
       "      <td>No</td>\n",
       "      <td>0</td>\n",
       "      <td>1.0</td>\n",
       "      <td>305</td>\n",
       "      <td>1.0</td>\n",
       "      <td>...</td>\n",
       "      <td>No</td>\n",
       "      <td>No</td>\n",
       "      <td>No</td>\n",
       "      <td>No</td>\n",
       "      <td>No</td>\n",
       "      <td>No</td>\n",
       "      <td>No</td>\n",
       "      <td>No</td>\n",
       "      <td>No</td>\n",
       "      <td>Modified</td>\n",
       "    </tr>\n",
       "    <tr>\n",
       "      <th>4</th>\n",
       "      <td>3256f628-e534-4826-9d63-4a8b88782852</td>\n",
       "      <td>660681</td>\n",
       "      <td>Landing Page Submission</td>\n",
       "      <td>Google</td>\n",
       "      <td>No</td>\n",
       "      <td>No</td>\n",
       "      <td>1</td>\n",
       "      <td>2.0</td>\n",
       "      <td>1428</td>\n",
       "      <td>1.0</td>\n",
       "      <td>...</td>\n",
       "      <td>No</td>\n",
       "      <td>No</td>\n",
       "      <td>No</td>\n",
       "      <td>No</td>\n",
       "      <td>No</td>\n",
       "      <td>No</td>\n",
       "      <td>No</td>\n",
       "      <td>No</td>\n",
       "      <td>No</td>\n",
       "      <td>Modified</td>\n",
       "    </tr>\n",
       "  </tbody>\n",
       "</table>\n",
       "<p>5 rows × 28 columns</p>\n",
       "</div>"
      ],
      "text/plain": [
       "                            Prospect ID  Lead Number              Lead Origin  \\\n",
       "0  7927b2df-8bba-4d29-b9a2-b6e0beafe620       660737                      API   \n",
       "1  2a272436-5132-4136-86fa-dcc88c88f482       660728                      API   \n",
       "2  8cc8c611-a219-4f35-ad23-fdfd2656bd8a       660727  Landing Page Submission   \n",
       "3  0cc2df48-7cf4-4e39-9de9-19797f9b38cc       660719  Landing Page Submission   \n",
       "4  3256f628-e534-4826-9d63-4a8b88782852       660681  Landing Page Submission   \n",
       "\n",
       "      Lead Source Do Not Email Do Not Call  Converted  TotalVisits  \\\n",
       "0      Olark Chat           No          No          0          0.0   \n",
       "1  Organic Search           No          No          0          5.0   \n",
       "2  Direct Traffic           No          No          1          2.0   \n",
       "3  Direct Traffic           No          No          0          1.0   \n",
       "4          Google           No          No          1          2.0   \n",
       "\n",
       "   Total Time Spent on Website  Page Views Per Visit  ... X Education Forums  \\\n",
       "0                            0                   0.0  ...                 No   \n",
       "1                          674                   2.5  ...                 No   \n",
       "2                         1532                   2.0  ...                 No   \n",
       "3                          305                   1.0  ...                 No   \n",
       "4                         1428                   1.0  ...                 No   \n",
       "\n",
       "  Newspaper Digital Advertisement Through Recommendations  \\\n",
       "0        No                    No                      No   \n",
       "1        No                    No                      No   \n",
       "2        No                    No                      No   \n",
       "3        No                    No                      No   \n",
       "4        No                    No                      No   \n",
       "\n",
       "  Receive More Updates About Our Courses Update me on Supply Chain Content  \\\n",
       "0                                     No                                No   \n",
       "1                                     No                                No   \n",
       "2                                     No                                No   \n",
       "3                                     No                                No   \n",
       "4                                     No                                No   \n",
       "\n",
       "  Get updates on DM Content I agree to pay the amount through cheque  \\\n",
       "0                        No                                       No   \n",
       "1                        No                                       No   \n",
       "2                        No                                       No   \n",
       "3                        No                                       No   \n",
       "4                        No                                       No   \n",
       "\n",
       "  A free copy of Mastering The Interview Last Notable Activity  \n",
       "0                                     No              Modified  \n",
       "1                                     No          Email Opened  \n",
       "2                                    Yes          Email Opened  \n",
       "3                                     No              Modified  \n",
       "4                                     No              Modified  \n",
       "\n",
       "[5 rows x 28 columns]"
      ]
     },
     "execution_count": 4276,
     "metadata": {},
     "output_type": "execute_result"
    }
   ],
   "source": [
    "# Good Ammount of data is retained\n",
    "lead_df.head()"
   ]
  },
  {
   "cell_type": "code",
   "execution_count": null,
   "id": "bf6a3c5f-4947-4e4e-b9a9-626e360a8e7e",
   "metadata": {},
   "outputs": [],
   "source": []
  },
  {
   "cell_type": "markdown",
   "id": "b0eaf0ac-61a8-4895-a874-c0e2672d0aae",
   "metadata": {},
   "source": [
    "### Exploratory Data Anaysis"
   ]
  },
  {
   "cell_type": "markdown",
   "id": "4c68cfb0-9e8c-46ca-aad6-037c3b4b3bcc",
   "metadata": {},
   "source": [
    "### Univariate Analysis and Bivariate Analysis"
   ]
  },
  {
   "cell_type": "markdown",
   "id": "014bd28a-fb76-41f5-bd67-3074b332c9b3",
   "metadata": {},
   "source": [
    "Converted"
   ]
  },
  {
   "cell_type": "code",
   "execution_count": 4277,
   "id": "9f59a9e7-9cfb-4afe-bd18-5a37d5dad3a6",
   "metadata": {},
   "outputs": [
    {
     "data": {
      "text/plain": [
       "37.85541106458012"
      ]
     },
     "execution_count": 4277,
     "metadata": {},
     "output_type": "execute_result"
    }
   ],
   "source": [
    "Converted = (sum(lead_df['Converted'])/len(lead_df['Converted'].index))*100\n",
    "Converted"
   ]
  },
  {
   "cell_type": "markdown",
   "id": "cebc2872-0460-404b-9904-d98f0ff4f41b",
   "metadata": {},
   "source": [
    "37% leads are converted"
   ]
  },
  {
   "cell_type": "code",
   "execution_count": 4278,
   "id": "7ba4564a-8405-4209-af00-a2a283ff56bb",
   "metadata": {},
   "outputs": [],
   "source": [
    "def counterplot(x,hue):\n",
    "    plt.figure(figsize=(13,5))\n",
    "    sns.countplot(x = x, hue = hue, data = lead_df,palette='Set1')\n",
    "    plt.xticks(rotation = 90)"
   ]
  },
  {
   "cell_type": "code",
   "execution_count": 4279,
   "id": "a1b868b8-efb4-4591-9225-d5fc549eee1f",
   "metadata": {},
   "outputs": [
    {
     "data": {
      "image/png": "[encoded data removed]",
      "text/plain": [
       "<Figure size 1300x500 with 1 Axes>"
      ]
     },
     "metadata": {},
     "output_type": "display_data"
    }
   ],
   "source": [
    "#Lead Origin\n",
    "\n",
    "counterplot(\"Lead Origin\",\"Converted\")"
   ]
  },
  {
   "cell_type": "markdown",
   "id": "280ca4ea-9cd8-49dd-96a1-12bd696fad74",
   "metadata": {},
   "source": [
    "- Lead Import are very less\n",
    "- Lead Add form conversion is very high but count is not that high\n",
    "- Need to imporve conversion from API and Page submission"
   ]
  },
  {
   "cell_type": "code",
   "execution_count": 4280,
   "id": "fe7b1ab7-b1a2-4a1a-b88a-ce2f1e8f8d68",
   "metadata": {},
   "outputs": [
    {
     "data": {
      "image/png": "[encoded data removed]",
      "text/plain": [
       "<Figure size 1300x500 with 1 Axes>"
      ]
     },
     "metadata": {},
     "output_type": "display_data"
    }
   ],
   "source": [
    "counterplot(\"Lead Source\",\"Converted\")"
   ]
  },
  {
   "cell_type": "code",
   "execution_count": 4281,
   "id": "c9277012-a1ba-4c0c-ad66-60298a4e2719",
   "metadata": {},
   "outputs": [],
   "source": [
    "# Need to replace 'google' with 'Google'\n",
    "lead_df['Lead Source'] = lead_df['Lead Source'].replace(['google'], 'Google')"
   ]
  },
  {
   "cell_type": "code",
   "execution_count": 4282,
   "id": "6f8cb68a-2794-4588-bf42-5b7c54919ef2",
   "metadata": {},
   "outputs": [
    {
     "data": {
      "image/png": "[encoded data removed]",
      "text/plain": [
       "<Figure size 1300x500 with 1 Axes>"
      ]
     },
     "metadata": {},
     "output_type": "display_data"
    }
   ],
   "source": [
    "counterplot(\"Lead Source\",\"Converted\")"
   ]
  },
  {
   "cell_type": "markdown",
   "id": "e2d4716a-a499-4cf0-9497-6fdfbb47d411",
   "metadata": {},
   "source": [
    "- There are 7 to 8 big sounces and rest are very low in count"
   ]
  },
  {
   "cell_type": "code",
   "execution_count": 4283,
   "id": "84c31bcf-f183-4eaa-bf9b-f248370e5c8e",
   "metadata": {},
   "outputs": [],
   "source": [
    "lead_df['Lead Source'] = lead_df['Lead Source'].replace(['Click2call', 'Live Chat', 'NC_EDM', 'Pay per Click Ads', 'Press_Release',\n",
    "  'Social Media', 'WeLearn', 'bing', 'blog', 'testone', 'welearnblog_Home', 'youtubechannel'], 'Others')"
   ]
  },
  {
   "cell_type": "markdown",
   "id": "5e471a4a-9410-4e5a-8b90-5f82bebe70e9",
   "metadata": {},
   "source": [
    "\n"
   ]
  },
  {
   "cell_type": "code",
   "execution_count": 4284,
   "id": "4e378cc5-58ec-41c1-9a7c-c84102de1fcc",
   "metadata": {},
   "outputs": [
    {
     "data": {
      "image/png": "[encoded data removed]",
      "text/plain": [
       "<Figure size 1300x500 with 1 Axes>"
      ]
     },
     "metadata": {},
     "output_type": "display_data"
    }
   ],
   "source": [
    "counterplot(\"Lead Source\",\"Converted\")"
   ]
  },
  {
   "cell_type": "code",
   "execution_count": 4285,
   "id": "7a49ca81-f04e-4d31-afd5-0602ae07474f",
   "metadata": {},
   "outputs": [
    {
     "data": {
      "image/png": "[encoded data removed]",
      "text/plain": [
       "<Figure size 1300x500 with 1 Axes>"
      ]
     },
     "metadata": {},
     "output_type": "display_data"
    }
   ],
   "source": [
    "counterplot(\"Do Not Email\",\"Converted\")"
   ]
  },
  {
   "cell_type": "markdown",
   "id": "35b7afec-1db1-458f-8626-3e65de701056",
   "metadata": {},
   "source": [
    "- Most entries are NO"
   ]
  },
  {
   "cell_type": "code",
   "execution_count": 4286,
   "id": "f351d9f2-4005-4db5-b7d3-11a9ab75b64f",
   "metadata": {},
   "outputs": [
    {
     "data": {
      "image/png": "[encoded data removed]",
      "text/plain": [
       "<Figure size 1300x500 with 1 Axes>"
      ]
     },
     "metadata": {},
     "output_type": "display_data"
    }
   ],
   "source": [
    "counterplot(\"Do Not Call\",\"Converted\")"
   ]
  },
  {
   "cell_type": "markdown",
   "id": "81503780-6ed3-48a8-95fc-9e7978d8f522",
   "metadata": {},
   "source": [
    "- Most entries are NO"
   ]
  },
  {
   "cell_type": "code",
   "execution_count": 4287,
   "id": "2c02fb8e-f2fb-4192-95d6-1d1feb962e0a",
   "metadata": {},
   "outputs": [
    {
     "data": {
      "text/plain": [
       "count    9074.000000\n",
       "mean        3.456028\n",
       "std         4.858802\n",
       "min         0.000000\n",
       "25%         1.000000\n",
       "50%         3.000000\n",
       "75%         5.000000\n",
       "max       251.000000\n",
       "Name: TotalVisits, dtype: float64"
      ]
     },
     "execution_count": 4287,
     "metadata": {},
     "output_type": "execute_result"
    }
   ],
   "source": [
    "lead_df['TotalVisits'].describe()"
   ]
  },
  {
   "cell_type": "code",
   "execution_count": 4288,
   "id": "5147d5a8-0bbb-4212-846d-ccd58cd3fe38",
   "metadata": {},
   "outputs": [
    {
     "data": {
      "text/plain": [
       "count    9074.000000\n",
       "mean        3.456028\n",
       "std         4.858802\n",
       "min         0.000000\n",
       "5%          0.000000\n",
       "25%         1.000000\n",
       "50%         3.000000\n",
       "75%         5.000000\n",
       "90%         7.000000\n",
       "95%        10.000000\n",
       "99%        17.000000\n",
       "max       251.000000\n",
       "Name: TotalVisits, dtype: float64"
      ]
     },
     "execution_count": 4288,
     "metadata": {},
     "output_type": "execute_result"
    }
   ],
   "source": [
    "lead_df['TotalVisits'].describe(percentiles=[0.05,.25, .5, .75, .90, .95, .99])"
   ]
  },
  {
   "cell_type": "code",
   "execution_count": 4289,
   "id": "fc84892b-31b3-4fe5-8ef9-f51b5b5964bd",
   "metadata": {},
   "outputs": [
    {
     "data": {
      "text/plain": [
       "<Axes: ylabel='TotalVisits'>"
      ]
     },
     "execution_count": 4289,
     "metadata": {},
     "output_type": "execute_result"
    },
    {
     "data": {
      "image/png": "[encoded data removed]",
      "text/plain": [
       "<Figure size 640x480 with 1 Axes>"
      ]
     },
     "metadata": {},
     "output_type": "display_data"
    }
   ],
   "source": [
    "sns.boxplot(lead_df['TotalVisits'],orient='vert',palette='Set1')"
   ]
  },
  {
   "cell_type": "markdown",
   "id": "7fb9347f-918a-455c-accd-1bb3d571a9ee",
   "metadata": {},
   "source": [
    "- We can see there are many outliers. We can use 99th percentile to cap value"
   ]
  },
  {
   "cell_type": "code",
   "execution_count": 4290,
   "id": "32805591-7599-4299-9ff1-08cc9b9191b3",
   "metadata": {},
   "outputs": [],
   "source": [
    "per = lead_df['TotalVisits'].quantile([0.05,0.95]).values\n",
    "lead_df['TotalVisits'][lead_df['TotalVisits'] <= per[0]] = per[0]\n",
    "lead_df['TotalVisits'][lead_df['TotalVisits'] >= per[1]] = per[1]"
   ]
  },
  {
   "cell_type": "code",
   "execution_count": 4291,
   "id": "e5d03fb7-d00b-4caf-8d32-a26020b9cf6c",
   "metadata": {},
   "outputs": [
    {
     "data": {
      "text/plain": [
       "<Axes: ylabel='TotalVisits'>"
      ]
     },
     "execution_count": 4291,
     "metadata": {},
     "output_type": "execute_result"
    },
    {
     "data": {
      "image/png": "[encoded data removed]",
      "text/plain": [
       "<Figure size 640x480 with 1 Axes>"
      ]
     },
     "metadata": {},
     "output_type": "display_data"
    }
   ],
   "source": [
    "sns.boxplot(lead_df['TotalVisits'],orient='vert',palette='Set1')"
   ]
  },
  {
   "cell_type": "code",
   "execution_count": 4292,
   "id": "b4a700db-a2a2-4d2f-8174-40a07f890102",
   "metadata": {},
   "outputs": [
    {
     "data": {
      "text/plain": [
       "<Axes: ylabel='Total Time Spent on Website'>"
      ]
     },
     "execution_count": 4292,
     "metadata": {},
     "output_type": "execute_result"
    },
    {
     "data": {
      "image/png": "[encoded data removed]",
      "text/plain": [
       "<Figure size 640x480 with 1 Axes>"
      ]
     },
     "metadata": {},
     "output_type": "display_data"
    }
   ],
   "source": [
    "sns.boxplot(lead_df['Total Time Spent on Website'],orient='vert',palette='Set1')"
   ]
  },
  {
   "cell_type": "code",
   "execution_count": 4293,
   "id": "2d59f481-4972-4c8b-a339-fc20b393ab0b",
   "metadata": {},
   "outputs": [
    {
     "data": {
      "text/plain": [
       "<Axes: ylabel='Page Views Per Visit'>"
      ]
     },
     "execution_count": 4293,
     "metadata": {},
     "output_type": "execute_result"
    },
    {
     "data": {
      "image/png": "[encoded data removed]",
      "text/plain": [
       "<Figure size 640x480 with 1 Axes>"
      ]
     },
     "metadata": {},
     "output_type": "display_data"
    }
   ],
   "source": [
    "sns.boxplot(lead_df['Page Views Per Visit'],orient='vert',palette='Set1')"
   ]
  },
  {
   "cell_type": "markdown",
   "id": "a0e24c73-bb48-4b43-b1ce-4fed4300f8d4",
   "metadata": {},
   "source": [
    "- We can see some outliers "
   ]
  },
  {
   "cell_type": "code",
   "execution_count": 4294,
   "id": "0e2e5e1a-49a0-444f-96ae-a386eaa2474b",
   "metadata": {},
   "outputs": [
    {
     "data": {
      "text/plain": [
       "count    9074.000000\n",
       "mean        2.370151\n",
       "std         2.160871\n",
       "min         0.000000\n",
       "25%         1.000000\n",
       "50%         2.000000\n",
       "75%         3.200000\n",
       "max        55.000000\n",
       "Name: Page Views Per Visit, dtype: float64"
      ]
     },
     "execution_count": 4294,
     "metadata": {},
     "output_type": "execute_result"
    }
   ],
   "source": [
    "lead_df['Page Views Per Visit'].describe()"
   ]
  },
  {
   "cell_type": "code",
   "execution_count": 4295,
   "id": "2218b39e-28bf-4591-880d-35199dfa06f4",
   "metadata": {},
   "outputs": [],
   "source": [
    "perc = lead_df['Page Views Per Visit'].quantile([0.05,0.95]).values\n",
    "lead_df['Page Views Per Visit'][lead_df['Page Views Per Visit'] <= perc[0]] = perc[0]\n",
    "lead_df['Page Views Per Visit'][lead_df['Page Views Per Visit'] >= perc[1]] = perc[1]"
   ]
  },
  {
   "cell_type": "code",
   "execution_count": 4296,
   "id": "43d405f2-19bc-4ef4-93a5-e03ad1587f51",
   "metadata": {},
   "outputs": [
    {
     "data": {
      "text/plain": [
       "<Axes: ylabel='Page Views Per Visit'>"
      ]
     },
     "execution_count": 4296,
     "metadata": {},
     "output_type": "execute_result"
    },
    {
     "data": {
      "image/png": "[encoded data removed]",
      "text/plain": [
       "<Figure size 640x480 with 1 Axes>"
      ]
     },
     "metadata": {},
     "output_type": "display_data"
    }
   ],
   "source": [
    "sns.boxplot(lead_df['Page Views Per Visit'],orient='vert',palette='Set1')"
   ]
  },
  {
   "cell_type": "code",
   "execution_count": 4297,
   "id": "55f16818-f5e8-4c4f-8e4e-361fcb0a8a74",
   "metadata": {},
   "outputs": [
    {
     "data": {
      "text/plain": [
       "count             9074\n",
       "unique              17\n",
       "top       Email Opened\n",
       "freq              3432\n",
       "Name: Last Activity, dtype: object"
      ]
     },
     "execution_count": 4297,
     "metadata": {},
     "output_type": "execute_result"
    }
   ],
   "source": [
    "lead_df['Last Activity'].describe()"
   ]
  },
  {
   "cell_type": "code",
   "execution_count": 4298,
   "id": "124c04f0-a1eb-42e8-9e68-90e36d0a5022",
   "metadata": {},
   "outputs": [
    {
     "data": {
      "image/png": "[encoded data removed]",
      "text/plain": [
       "<Figure size 1300x500 with 1 Axes>"
      ]
     },
     "metadata": {},
     "output_type": "display_data"
    }
   ],
   "source": [
    "counterplot(\"Last Activity\",\"Converted\")"
   ]
  },
  {
   "cell_type": "code",
   "execution_count": 4299,
   "id": "1f2d7982-c380-43bb-a546-26a86681a68c",
   "metadata": {},
   "outputs": [
    {
     "data": {
      "image/png": "[encoded data removed]",
      "text/plain": [
       "<Figure size 1300x500 with 1 Axes>"
      ]
     },
     "metadata": {},
     "output_type": "display_data"
    }
   ],
   "source": [
    "lead_df['Last Activity'] = lead_df['Last Activity'].replace(['Had a Phone Conversation', 'View in browser link Clicked', \n",
    "                                                       'Visited Booth in Tradeshow', 'Approached upfront',\n",
    "                                                       'Resubscribed to emails','Email Received', 'Email Marked Spam'], 'Other_Activity')\n",
    "\n",
    "counterplot(\"Last Activity\",\"Converted\")"
   ]
  },
  {
   "cell_type": "code",
   "execution_count": 4300,
   "id": "1018438d-0f78-4b28-8681-cebebdd1f3c5",
   "metadata": {},
   "outputs": [
    {
     "data": {
      "image/png": "[encoded data removed]",
      "text/plain": [
       "<Figure size 1300x500 with 1 Axes>"
      ]
     },
     "metadata": {},
     "output_type": "display_data"
    }
   ],
   "source": [
    "counterplot(\"Country\",\"Converted\")"
   ]
  },
  {
   "cell_type": "markdown",
   "id": "369b323f-f186-450d-ac7c-204bcf64aa66",
   "metadata": {},
   "source": [
    "- Most of the values are India"
   ]
  },
  {
   "cell_type": "code",
   "execution_count": null,
   "id": "c5ee1ca8-d129-4d97-994b-cbd9e41ff23d",
   "metadata": {},
   "outputs": [],
   "source": [
    "counterplot(\"Specialization\",\"Converted\")"
   ]
  },
  {
   "cell_type": "code",
   "execution_count": null,
   "id": "b04fa86a-55ba-4fa1-a60f-4ea739a3d30b",
   "metadata": {},
   "outputs": [],
   "source": []
  },
  {
   "cell_type": "code",
   "execution_count": null,
   "id": "0e2a2efd-0e4a-4d53-8689-6cb535d8a918",
   "metadata": {},
   "outputs": [],
   "source": [
    "counterplot(\"What is your current occupation\",\"Converted\")"
   ]
  },
  {
   "cell_type": "markdown",
   "id": "8f6d1a0e-dc59-4958-b9f8-3650bdce543f",
   "metadata": {},
   "source": [
    "- Working professional conversion rate is very high\n",
    "- Unemployed count is high and conversion is ~40%"
   ]
  },
  {
   "cell_type": "code",
   "execution_count": null,
   "id": "5284b2d1-712f-4d76-b31d-db1dae612a34",
   "metadata": {},
   "outputs": [],
   "source": [
    "counterplot(\"Search\",\"Converted\")"
   ]
  },
  {
   "cell_type": "markdown",
   "id": "66b29b55-a2a6-491a-8b80-1768a727f4e3",
   "metadata": {},
   "source": [
    "- Most of the values are No"
   ]
  },
  {
   "cell_type": "code",
   "execution_count": null,
   "id": "faa0b643-96b6-4eae-9736-c3045c8ea845",
   "metadata": {},
   "outputs": [],
   "source": [
    "counterplot(\"Magazine\",\"Converted\")"
   ]
  },
  {
   "cell_type": "markdown",
   "id": "44ff8cff-7d78-4ba4-989d-b937d9f39daa",
   "metadata": {},
   "source": [
    "- All values are No"
   ]
  },
  {
   "cell_type": "code",
   "execution_count": null,
   "id": "98f30a73-f067-49f1-9578-a72a94432939",
   "metadata": {},
   "outputs": [],
   "source": [
    "counterplot(\"Newspaper Article\",\"Converted\")"
   ]
  },
  {
   "cell_type": "markdown",
   "id": "0f6ea88a-2d3e-4810-9d4d-e971a64a542a",
   "metadata": {},
   "source": [
    "- Most of the values are No"
   ]
  },
  {
   "cell_type": "code",
   "execution_count": null,
   "id": "19cd7510-87f0-499b-b83e-cb816012ad3c",
   "metadata": {},
   "outputs": [],
   "source": [
    "counterplot(\"X Education Forums\",\"Converted\")"
   ]
  },
  {
   "cell_type": "markdown",
   "id": "60194c30-2cae-4c57-af65-cb50188a332b",
   "metadata": {},
   "source": [
    "- Most of the values are NO"
   ]
  },
  {
   "cell_type": "code",
   "execution_count": null,
   "id": "ec75553c-5c84-40fe-9dab-f71f9104801b",
   "metadata": {},
   "outputs": [],
   "source": [
    "counterplot(\"Newspaper\",\"Converted\")"
   ]
  },
  {
   "cell_type": "markdown",
   "id": "e932dcf4-7489-4ecc-87e3-ccf27e7e489b",
   "metadata": {},
   "source": [
    "- Most of the values are NO"
   ]
  },
  {
   "cell_type": "code",
   "execution_count": null,
   "id": "89298ac7-7812-4634-879b-b5d1d44add9d",
   "metadata": {},
   "outputs": [],
   "source": [
    "counterplot(\"Digital Advertisement\",\"Converted\")"
   ]
  },
  {
   "cell_type": "markdown",
   "id": "3123a414-823f-4484-993d-74771e9a58ac",
   "metadata": {},
   "source": [
    "- Most of the values are NO"
   ]
  },
  {
   "cell_type": "code",
   "execution_count": null,
   "id": "f2ec7de1-204d-4b1b-ba8c-9c5e9d5d0181",
   "metadata": {},
   "outputs": [],
   "source": [
    "counterplot(\"Receive More Updates About Our Courses\",\"Converted\")"
   ]
  },
  {
   "cell_type": "markdown",
   "id": "18de4f43-241f-48bd-a4c9-f6648df6cf0b",
   "metadata": {},
   "source": [
    "- All values are NO"
   ]
  },
  {
   "cell_type": "code",
   "execution_count": null,
   "id": "78b4d21d-2230-4639-a566-f6d05da026ea",
   "metadata": {},
   "outputs": [],
   "source": [
    "counterplot(\"Through Recommendations\",\"Converted\")"
   ]
  },
  {
   "cell_type": "markdown",
   "id": "c2b43f79-28f6-42da-ad1d-a9c558ab9acf",
   "metadata": {},
   "source": [
    "- Most of the values are NO"
   ]
  },
  {
   "cell_type": "code",
   "execution_count": null,
   "id": "126f6680-5923-4635-9a9c-05d80a22802c",
   "metadata": {},
   "outputs": [],
   "source": [
    "counterplot(\"Update me on Supply Chain Content\",\"Converted\")"
   ]
  },
  {
   "cell_type": "markdown",
   "id": "0f610663-2b1c-4933-830e-adcc47ad2516",
   "metadata": {},
   "source": [
    "- All values are NO"
   ]
  },
  {
   "cell_type": "code",
   "execution_count": null,
   "id": "365a807f-9cb5-4526-aa0e-3d924db50c55",
   "metadata": {},
   "outputs": [],
   "source": [
    "counterplot(\"Get updates on DM Content\",\"Converted\")"
   ]
  },
  {
   "cell_type": "markdown",
   "id": "d000b5d3-e9d8-4849-907a-7c2658879374",
   "metadata": {},
   "source": [
    "- All values are NO"
   ]
  },
  {
   "cell_type": "code",
   "execution_count": null,
   "id": "2858928d-c779-4766-a53d-36f0182de574",
   "metadata": {},
   "outputs": [],
   "source": [
    "counterplot(\"I agree to pay the amount through cheque\",\"Converted\")"
   ]
  },
  {
   "cell_type": "markdown",
   "id": "c37ec2d3-0978-4c92-bc11-aca793ecd0ac",
   "metadata": {},
   "source": [
    "- All values are NO"
   ]
  },
  {
   "cell_type": "code",
   "execution_count": null,
   "id": "74b4684d-2084-4744-9ae5-af17f3a11194",
   "metadata": {},
   "outputs": [],
   "source": [
    "counterplot(\"A free copy of Mastering The Interview\",\"Converted\")"
   ]
  },
  {
   "cell_type": "code",
   "execution_count": null,
   "id": "f2fb5281-a691-4b9a-ad02-d5d23ec333da",
   "metadata": {},
   "outputs": [],
   "source": [
    "counterplot(\"Last Notable Activity\",\"Converted\")"
   ]
  },
  {
   "cell_type": "code",
   "execution_count": null,
   "id": "a7b8db30-798e-4b25-8131-ff0989fae178",
   "metadata": {},
   "outputs": [],
   "source": [
    "#Based on Univariate analysis \n",
    "\n",
    "# List of unneccessary columns to drop\n",
    "columns_to_drop = ['Magazine', 'Search', 'Newspaper Article', 'X Education Forums','Country',\n",
    "                   'Newspaper', 'Digital Advertisement', 'Lead Number', 'Through Recommendations','Receive More Updates About Our Courses',\n",
    "                            'Update me on Supply Chain Content','Prospect ID',\n",
    " 'Get updates on DM Content','I agree to pay the amount through cheque']\n",
    "\n",
    "# Drop each column in the list using a loop\n",
    "for column in columns_to_drop:\n",
    "    if column in lead_df.columns:  \n",
    "        lead_df = lead_df.drop(column, axis=1)\n",
    "        \n",
    "lead_df.isnull().sum()"
   ]
  },
  {
   "cell_type": "markdown",
   "id": "b9afb857-f7de-4863-8444-b78a40203ad3",
   "metadata": {},
   "source": [
    "### Data Preparation"
   ]
  },
  {
   "cell_type": "markdown",
   "id": "7da90935-57f0-4e5a-b1f4-cd2db5441bd4",
   "metadata": {},
   "source": [
    "##### Converting binary varibales"
   ]
  },
  {
   "cell_type": "code",
   "execution_count": null,
   "id": "44748411-8bbe-4709-8646-4a994cf046be",
   "metadata": {},
   "outputs": [],
   "source": [
    "# Define the columns to convert in to list\n",
    "columns_to_convert = ['Do Not Email', 'Do Not Call']\n",
    "\n",
    "# Convert categorical values to binary using replace\n",
    "lead_df[columns_to_convert] = lead_df[columns_to_convert].replace({'Yes': 1, 'No': 0})"
   ]
  },
  {
   "cell_type": "markdown",
   "id": "41d2362b-f552-4ad8-a437-a1df04c6b199",
   "metadata": {},
   "source": [
    "#### Create dummy variables "
   ]
  },
  {
   "cell_type": "code",
   "execution_count": null,
   "id": "f370a682-6c42-4a4e-bf45-f17e44019399",
   "metadata": {},
   "outputs": [],
   "source": [
    "lead_df.select_dtypes(include=['object']).columns"
   ]
  },
  {
   "cell_type": "code",
   "execution_count": null,
   "id": "aa03662d-b1bc-49e8-953b-a4171ca1574f",
   "metadata": {},
   "outputs": [],
   "source": [
    "# Create dummies and concatenate them to the original DataFrame\n",
    "lead_df = pd.concat([lead_df.drop(columns=lead_df.select_dtypes(include=['object']).columns),\n",
    "                  pd.get_dummies(lead_df.select_dtypes(include=['object']), drop_first=True).astype(int)], \n",
    "                 axis=1)"
   ]
  },
  {
   "cell_type": "code",
   "execution_count": null,
   "id": "ea01b5a0-fa3b-4834-aa2b-3dcc171b0434",
   "metadata": {},
   "outputs": [],
   "source": [
    "lead_df.head()"
   ]
  },
  {
   "cell_type": "markdown",
   "id": "0c4a66dc-46cc-4f15-9ccb-5e584f8d0324",
   "metadata": {},
   "source": [
    "#### Splitting the data into train and test set"
   ]
  },
  {
   "cell_type": "code",
   "execution_count": null,
   "id": "b302dd83-a5c7-45e8-96dd-de1d94c70214",
   "metadata": {},
   "outputs": [],
   "source": [
    "#Importing train_test_split\n",
    "from sklearn.model_selection import train_test_split"
   ]
  },
  {
   "cell_type": "code",
   "execution_count": null,
   "id": "04fbdb0b-88e9-43aa-a6d2-d9a1e568fb55",
   "metadata": {},
   "outputs": [],
   "source": [
    "#Features varible\n",
    "features_set=lead_df.drop(['Converted'], axis=1)\n",
    "features_set.head()"
   ]
  },
  {
   "cell_type": "code",
   "execution_count": null,
   "id": "45f1ea70-b2d3-4acc-a42b-20b9896150c4",
   "metadata": {},
   "outputs": [],
   "source": [
    "#Target a varible\n",
    "response=lead_df['Converted']\n",
    "response.head()"
   ]
  },
  {
   "cell_type": "code",
   "execution_count": null,
   "id": "b963e1d0-e67c-423f-8325-756c4db35532",
   "metadata": {},
   "outputs": [],
   "source": [
    "# Split the data\n",
    "train_features, test_features, train_response, test_response = train_test_split(\n",
    "    features_set, response, train_size=0.7, test_size=0.3, random_state=100\n",
    ")"
   ]
  },
  {
   "cell_type": "code",
   "execution_count": null,
   "id": "5c9c9065-3476-4d68-9844-12eb76ba8947",
   "metadata": {},
   "outputs": [],
   "source": [
    "train_features"
   ]
  },
  {
   "cell_type": "code",
   "execution_count": null,
   "id": "743f3883-67b2-40a2-9daa-54fb36c250c0",
   "metadata": {},
   "outputs": [],
   "source": [
    "lead_numbers = lead_df.select_dtypes(include=['float64', 'int64'])"
   ]
  },
  {
   "cell_type": "markdown",
   "id": "4ede1785-eedf-4dfe-b2a5-f58623c61839",
   "metadata": {},
   "source": [
    "### Scaling Data \n"
   ]
  },
  {
   "cell_type": "code",
   "execution_count": null,
   "id": "637270e1-fcf1-4bc7-b5b7-0acb1ddf7419",
   "metadata": {},
   "outputs": [],
   "source": [
    "#import Standrad Scalers\n",
    "from sklearn.preprocessing import StandardScaler"
   ]
  },
  {
   "cell_type": "code",
   "execution_count": null,
   "id": "ba48ae4d-061c-4343-8788-5be86710975a",
   "metadata": {},
   "outputs": [],
   "source": [
    "scaler = StandardScaler()\n",
    "varible_list = ['TotalVisits', 'Total Time Spent on Website','Page Views Per Visit']\n",
    "# Fit the scaler and transform the selected variables in one step\n",
    "train_features[varible_list] = scaler.fit_transform(train_features[varible_list])"
   ]
  },
  {
   "cell_type": "code",
   "execution_count": null,
   "id": "5b2cc27f-4110-45d5-99fe-e86c305a3d83",
   "metadata": {},
   "outputs": [],
   "source": [
    "train_features.head()"
   ]
  },
  {
   "cell_type": "code",
   "execution_count": null,
   "id": "9db39e53-522b-4d4e-b4f3-e7bf31360e50",
   "metadata": {},
   "outputs": [],
   "source": [
    "#Conversion Rate in Terms of Percentage\n",
    "conv_rate = lead_df['Converted'].mean() * 100\n",
    "print(conv_rate)"
   ]
  },
  {
   "cell_type": "markdown",
   "id": "37175cb6-8b3d-45d0-bb99-4100a668f0c1",
   "metadata": {},
   "source": [
    "#### Conversion rate to be 37.85"
   ]
  },
  {
   "cell_type": "markdown",
   "id": "96c284d7-328a-40c8-9281-5e87d8e46a6b",
   "metadata": {},
   "source": [
    "### Feature Selection Using RFE"
   ]
  },
  {
   "cell_type": "code",
   "execution_count": null,
   "id": "4a56b129-7026-4e43-8df6-e79083ec6a79",
   "metadata": {},
   "outputs": [],
   "source": [
    "import statsmodels.api as sm\n",
    "# Create the logistic regression model using GLM with a logistic link function\n",
    "log_reg = sm.GLM(train_response, sm.add_constant(train_features), \n",
    "                  family=sm.families.Binomial())\n",
    "\n",
    "# Fit the model\n",
    "log_reg_fit = log_reg.fit()\n",
    "print(log_reg_fit.summary())"
   ]
  },
  {
   "cell_type": "markdown",
   "id": "be6e55a2-4b1a-40da-83c5-5ca51c8ae485",
   "metadata": {},
   "source": [
    "# Feature Selections"
   ]
  },
  {
   "cell_type": "code",
   "execution_count": null,
   "id": "f0266314-8a11-43a1-be05-a00681ca5014",
   "metadata": {},
   "outputs": [],
   "source": [
    "from sklearn.linear_model import LogisticRegression\n",
    "from sklearn.feature_selection import RFE\n",
    "logistic_reg = LogisticRegression()\n",
    "rfe_model =RFE(logistic_reg,n_features_to_select = 20)\n",
    "rfe_model = rfe_model.fit(train_features, train_response)"
   ]
  },
  {
   "cell_type": "code",
   "execution_count": null,
   "id": "08a17c6a-e3d3-4288-aaa4-9a899873d822",
   "metadata": {},
   "outputs": [],
   "source": [
    "rfe_model.support_"
   ]
  },
  {
   "cell_type": "code",
   "execution_count": null,
   "id": "e2fcc005-7101-4d8c-9918-f4b74520bd8e",
   "metadata": {},
   "outputs": [],
   "source": [
    "# Create a list of tuples with feature names, selection status, and rankings\n",
    "feature_selection_summary = list(zip(train_features.columns, rfe_model.support_, rfe_model.ranking_))\n",
    "\n",
    "# Print the feature selection summary\n",
    "for feature in feature_selection_summary:\n",
    "    print(feature)"
   ]
  },
  {
   "cell_type": "code",
   "execution_count": null,
   "id": "163ca527-70dd-438e-85e3-2c1c98d46c44",
   "metadata": {},
   "outputs": [],
   "source": [
    "# Create a DataFrame to display selected features\n",
    "selected_columns = train_features.columns[rfe_model.support_]\n",
    "# Display the DataFrame\n",
    "print(selected_columns)"
   ]
  },
  {
   "cell_type": "code",
   "execution_count": null,
   "id": "c1ba3c2a-204d-44f8-9cec-02c764b04c2e",
   "metadata": {},
   "outputs": [],
   "source": [
    "train_features.columns[~rfe_model.support_]"
   ]
  },
  {
   "cell_type": "code",
   "execution_count": null,
   "id": "fbee9b72-0b6d-48b3-88c2-e296b58eb2b8",
   "metadata": {},
   "outputs": [],
   "source": [
    "train_features_sm = sm.add_constant(train_features[selected_columns])\n",
    "log_reg_1 = sm.GLM(train_response,train_features_sm, family = sm.families.Binomial())\n",
    "res = log_reg_1.fit()\n",
    "res.summary()"
   ]
  },
  {
   "cell_type": "code",
   "execution_count": null,
   "id": "ae5bb55f-3086-4274-a14e-879ee822352b",
   "metadata": {},
   "outputs": [],
   "source": [
    "# Make predictions on the training set\n",
    "train_response_pred = res.predict(train_features_sm)\n",
    "print(train_response_pred[:10])\n"
   ]
  },
  {
   "cell_type": "code",
   "execution_count": null,
   "id": "f95d9112-e255-4d19-8b81-77ad00a9b258",
   "metadata": {},
   "outputs": [],
   "source": [
    "# Convert predictions to a NumPy array and ensure it's 1D\n",
    "train_response_pred = train_response_pred.values.reshape(-1)\n",
    "train_response_pred[:10]\n"
   ]
  },
  {
   "cell_type": "code",
   "execution_count": null,
   "id": "9ee24c0d-431d-494d-ac19-2651b37b9a86",
   "metadata": {},
   "outputs": [],
   "source": [
    "# Convert predictions to a DataFrame\n",
    "train_response_pred_final = pd.DataFrame({\n",
    "    'converted': train_response.values,                      # Actual values\n",
    "    'Conversion_Prob': train_response_pred.flatten()         # Predicted probabilities\n",
    "})\n",
    "\n",
    "# Add the ID from the original index\n",
    "train_response_pred_final['ID'] = train_response.index\n",
    "\n",
    "# Convert probabilities to binary classifications \n",
    "train_response_pred_final['Convert'] = train_response_pred_final.Conversion_Prob.map(lambda x: 1 if x > 0.5 else 0)\n",
    "\n",
    "# Display the first few rows of the final DataFrame\n",
    "print(train_response_pred_final.head())"
   ]
  },
  {
   "cell_type": "markdown",
   "id": "0187a042-11f8-43b2-9081-cd756fb9ac5a",
   "metadata": {},
   "source": [
    "## Generating a Confusion Matrix"
   ]
  },
  {
   "cell_type": "code",
   "execution_count": null,
   "id": "a5070d6a-5b23-41ba-ac7c-44ccfcbff594",
   "metadata": {},
   "outputs": [],
   "source": [
    "from sklearn.metrics import confusion_matrix\n",
    "\n",
    "# Generate confusion matrix\n",
    "confusion = confusion_matrix(train_response_pred_final['converted'], train_response_pred_final['Convert'], labels=[1, 0])\n",
    "\n",
    "# Print the confusion matrix\n",
    "print(\"Confusion Matrix:\\n\", confusion)"
   ]
  },
  {
   "cell_type": "code",
   "execution_count": null,
   "id": "075fa668-2a37-4715-8935-5b1c05141a83",
   "metadata": {},
   "outputs": [],
   "source": [
    "from sklearn.metrics import accuracy_score\n",
    "\n",
    "# Calculate accuracy\n",
    "accuracy = accuracy_score(train_response_pred_final['converted'], train_response_pred_final['Convert'])\n",
    "\n",
    "# Print the accuracy\n",
    "print(f\"Accuracy: {accuracy * 100:.2f}%\")"
   ]
  },
  {
   "cell_type": "markdown",
   "id": "6e2ecfe3-da51-4240-bbf8-654204e55031",
   "metadata": {},
   "source": [
    "##### The model achieved an overall accuracy of 81.72%, which indicates a solid performance."
   ]
  },
  {
   "cell_type": "code",
   "execution_count": null,
   "id": "435c17a5-b5ae-4b41-8d66-e8aafc7d35fb",
   "metadata": {},
   "outputs": [],
   "source": [
    "# Extract True Negatives(TN) ,False Positives(FP), False Negatives (FN) and True Positives (TP)\n",
    "TN = confusion[0, 0]  \n",
    "FP = confusion[0, 1]  \n",
    "FN = confusion[1, 0]  \n",
    "TP = confusion[1, 1]  \n",
    "\n",
    "# Calculate Sensitivity and Specificity\n",
    "sensitivity = TP / (TP + FN)\n",
    "specificity = TN / (TN + FP)\n",
    "\n",
    "# Calculate PPV (Precision) and NPV\n",
    "ppv = TP / (TP + FP) if (TP + FP) > 0 else 0\n",
    "npv = TN / (TN + FN) if (TN + FN) > 0 else 0\n",
    "\n",
    "# Print the results\n",
    "print(f\"Sensitivity: {sensitivity * 100:.2f}%\")\n",
    "print(f\"Specificity: {specificity * 100:.2f}%\")\n",
    "print(f\"Positive Predictive Value : {ppv * 100:.2f}%\")\n",
    "print(f\"Negative Predictive Value : {npv * 100:.2f}%\")"
   ]
  },
  {
   "cell_type": "markdown",
   "id": "fff3c4d8-9904-4a90-affa-7101ea1d5446",
   "metadata": {},
   "source": [
    "## Evaluating the VIF (Variance Inflation Factor) values.\n"
   ]
  },
  {
   "cell_type": "code",
   "execution_count": null,
   "id": "22d239da-2511-498d-9221-21d8598056aa",
   "metadata": {},
   "outputs": [],
   "source": [
    "from statsmodels.stats.outliers_influence import variance_inflation_factor\n",
    "\n",
    "# Define a function to calculate VIF\n",
    "def calculate_vif(features):\n",
    "    vif_data = pd.DataFrame()\n",
    "    vif_data['Features'] = features.columns\n",
    "    vif_data['VIF'] = [variance_inflation_factor(features.values, i) for i in range(features.shape[1])]\n",
    "    vif_data['VIF'] = round(vif_data['VIF'], 2)\n",
    "    return vif_data.sort_values(by=\"VIF\", ascending=False)\n",
    "\n",
    "# Calculate VIF for the selected features\n",
    "vif_result = calculate_vif(train_features[selected_columns])\n",
    "\n",
    "# Display the VIF results\n",
    "vif_result\n"
   ]
  },
  {
   "cell_type": "code",
   "execution_count": null,
   "id": "ab6591d9-173d-483d-ba87-2dca0da04010",
   "metadata": {},
   "outputs": [],
   "source": [
    "# drop the column because it has high p value\n",
    "selected_columns=selected_columns.drop('What is your current occupation_Housewife')\n",
    "print(selected_columns)"
   ]
  },
  {
   "cell_type": "code",
   "execution_count": null,
   "id": "18a5ad71-ab74-45fd-b09b-86ae21a10ef2",
   "metadata": {},
   "outputs": [],
   "source": [
    "# Summary\n",
    "train_features_sm = sm.add_constant( train_features[selected_columns])\n",
    "log_reg_1 = sm.GLM(train_response, train_features_sm, family = sm.families.Binomial())\n",
    "res = log_reg_1.fit()\n",
    "res.summary()"
   ]
  },
  {
   "cell_type": "code",
   "execution_count": null,
   "id": "9e9bd7b5-f430-4081-bd6e-8a815f4ac54a",
   "metadata": {},
   "outputs": [],
   "source": [
    "# drop the column because it has high p value\n",
    "selected_columns=selected_columns.drop('Last Notable Activity_Had a Phone Conversation')\n",
    "print(selected_columns)"
   ]
  },
  {
   "cell_type": "code",
   "execution_count": null,
   "id": "f5abd623-70db-43f5-87aa-d542b20619ca",
   "metadata": {},
   "outputs": [],
   "source": [
    "# Summary\n",
    "train_features_sm = sm.add_constant( train_features[selected_columns])\n",
    "log_reg_2 = sm.GLM(train_response, train_features_sm, family = sm.families.Binomial())\n",
    "res = log_reg_2.fit()\n",
    "res.summary()"
   ]
  },
  {
   "cell_type": "code",
   "execution_count": null,
   "id": "b9863619-9689-4a89-8cab-7fb388f3ade6",
   "metadata": {},
   "outputs": [],
   "source": [
    "# drop the column because it has high p value\n",
    "selected_columns=selected_columns.drop('What is your current occupation_Student')\n",
    "print(selected_columns)"
   ]
  },
  {
   "cell_type": "code",
   "execution_count": null,
   "id": "82e10738-f7aa-4355-ae96-47aa1957fcf6",
   "metadata": {},
   "outputs": [],
   "source": [
    "# Summary\n",
    "train_features_sm = sm.add_constant( train_features[selected_columns])\n",
    "log_reg_3 = sm.GLM(train_response, train_features_sm, family = sm.families.Binomial())\n",
    "res = log_reg_3.fit()\n",
    "res.summary()"
   ]
  },
  {
   "cell_type": "code",
   "execution_count": null,
   "id": "9b76b4aa-efc4-4105-a251-e3887d5b8542",
   "metadata": {},
   "outputs": [],
   "source": [
    "# drop the column because it has high p value\n",
    "selected_columns=selected_columns.drop('Lead Origin_Lead Import')\n",
    "print(selected_columns)"
   ]
  },
  {
   "cell_type": "code",
   "execution_count": null,
   "id": "fba3b622-d2ac-48e4-93e0-8f8fe0002490",
   "metadata": {},
   "outputs": [],
   "source": [
    "# Summary\n",
    "train_features_sm = sm.add_constant( train_features[selected_columns])\n",
    "log_reg_4 = sm.GLM(train_response, train_features_sm, family = sm.families.Binomial())\n",
    "res = log_reg_4.fit()\n",
    "res.summary()"
   ]
  },
  {
   "cell_type": "code",
   "execution_count": null,
   "id": "98768237-53f7-45ec-bfde-b92ce2e3a0e0",
   "metadata": {},
   "outputs": [],
   "source": [
    "## Above model has p values less than 0.05 for all vars"
   ]
  },
  {
   "cell_type": "code",
   "execution_count": null,
   "id": "a372b4bb-5e3d-48f0-9764-2523eecbe6ec",
   "metadata": {},
   "outputs": [],
   "source": [
    "# Make predictions on the training set\n",
    "train_response_pred = res.predict(train_features_sm)\n",
    "print(train_response_pred[:10])"
   ]
  },
  {
   "cell_type": "code",
   "execution_count": null,
   "id": "08b3c9dc-3864-4b33-86e9-99d498fc5036",
   "metadata": {},
   "outputs": [],
   "source": [
    "# Convert predictions to a NumPy array and ensure it's 1D\n",
    "train_response_pred = train_response_pred.values.reshape(-1)\n",
    "train_response_pred[:10]\n"
   ]
  },
  {
   "cell_type": "code",
   "execution_count": null,
   "id": "fed16255-1473-49d1-a81b-ffba5f7a811d",
   "metadata": {},
   "outputs": [],
   "source": [
    "# Convert predictions to a DataFrame\n",
    "train_response_pred_final = pd.DataFrame({\n",
    "    'converted': train_response.values,                      # Actual values\n",
    "    'Conversion_Prob': train_response_pred.flatten()         # Predicted probabilities\n",
    "})\n",
    "\n",
    "# Add the ID from the original index\n",
    "train_response_pred_final['ID'] = train_response.index\n",
    "\n",
    "# Convert probabilities to binary classifications \n",
    "train_response_pred_final['Convert'] = train_response_pred_final.Conversion_Prob.map(lambda x: 1 if x > 0.5 else 0)\n",
    "\n",
    "# Display the first few rows of the final DataFrame\n",
    "print(train_response_pred_final.head())"
   ]
  },
  {
   "cell_type": "markdown",
   "id": "ee0a0a05-5fa8-4fd7-a861-b17f8a8de14c",
   "metadata": {},
   "source": [
    "## Generating a Confusion Matrix"
   ]
  },
  {
   "cell_type": "code",
   "execution_count": null,
   "id": "143a0b8d-4322-4326-b471-7937e157d7f0",
   "metadata": {},
   "outputs": [],
   "source": [
    "# Generate confusion matrix\n",
    "confusion = confusion_matrix(train_response_pred_final['converted'], train_response_pred_final['Convert'], labels=[1, 0])\n",
    "\n",
    "# Print the confusion matrix\n",
    "print(\"Confusion Matrix:\\n\", confusion)"
   ]
  },
  {
   "cell_type": "code",
   "execution_count": null,
   "id": "6de3f184-8b0d-411b-8bc1-4a59f78de066",
   "metadata": {},
   "outputs": [],
   "source": [
    "# Calculate accuracy\n",
    "accuracy = accuracy_score(train_response_pred_final['converted'], train_response_pred_final['Convert'])\n",
    "\n",
    "# Print the accuracy\n",
    "print(f\"Accuracy: {accuracy * 100:.2f}%\")"
   ]
  },
  {
   "cell_type": "code",
   "execution_count": null,
   "id": "a22ab459-1de1-4959-bb23-bfbfa4741edd",
   "metadata": {},
   "outputs": [],
   "source": [
    "# Extract True Negatives(TN) ,False Positives(FP), False Negatives (FN) and True Positives (TP)\n",
    "TN = confusion[0, 0]  \n",
    "FP = confusion[0, 1]  \n",
    "FN = confusion[1, 0]  \n",
    "TP = confusion[1, 1]  \n",
    "\n",
    "# Calculate Sensitivity and Specificity\n",
    "sensitivity = TP / (TP + FN)\n",
    "specificity = TN / (TN + FP)\n",
    "\n",
    "# Calculate PPV (Precision) and NPV\n",
    "ppv = TP / (TP + FP) if (TP + FP) > 0 else 0\n",
    "npv = TN / (TN + FN) if (TN + FN) > 0 else 0\n",
    "\n",
    "# Print the results\n",
    "print(f\"Sensitivity: {sensitivity * 100:.2f}%\")\n",
    "print(f\"Specificity: {specificity * 100:.2f}%\")\n",
    "print(f\"Positive Predictive Value : {ppv * 100:.2f}%\")\n",
    "print(f\"Negative Predictive Value : {npv * 100:.2f}%\")"
   ]
  },
  {
   "cell_type": "markdown",
   "id": "95318108-199d-4004-8707-0a476e1d3c67",
   "metadata": {},
   "source": [
    "## Evaluating the VIF (Variance Inflation Factor) values"
   ]
  },
  {
   "cell_type": "code",
   "execution_count": null,
   "id": "601ceaef-cdef-4667-9fe7-396d06dd1f11",
   "metadata": {},
   "outputs": [],
   "source": [
    "# Calculate VIF for the selected features\n",
    "vif_result = calculate_vif(train_features[selected_columns])\n",
    "\n",
    "# Display the VIF results\n",
    "vif_result"
   ]
  },
  {
   "cell_type": "code",
   "execution_count": null,
   "id": "114e70e9-201a-4623-953b-1fefb7292323",
   "metadata": {},
   "outputs": [],
   "source": [
    "# droping the collum for high VIF\n",
    "selected_columns=selected_columns.drop('Lead Origin_Lead Add Form')\n",
    "print(selected_columns)"
   ]
  },
  {
   "cell_type": "code",
   "execution_count": null,
   "id": "4c7a068a-5b63-4c27-b21f-f342dacffd1d",
   "metadata": {},
   "outputs": [],
   "source": [
    "# Summary\n",
    "train_features_sm = sm.add_constant( train_features[selected_columns])\n",
    "log_reg_5 = sm.GLM(train_response, train_features_sm, family = sm.families.Binomial())\n",
    "res = log_reg_5.fit()\n",
    "res.summary()"
   ]
  },
  {
   "cell_type": "code",
   "execution_count": null,
   "id": "81bb594a-c507-4577-ba65-944e757cbb8f",
   "metadata": {},
   "outputs": [],
   "source": [
    "# Make predictions on the training set\n",
    "train_response_pred = res.predict(train_features_sm)\n",
    "print(train_response_pred[:10])"
   ]
  },
  {
   "cell_type": "code",
   "execution_count": null,
   "id": "478702c9-1a7c-4752-927e-1e4d013034aa",
   "metadata": {},
   "outputs": [],
   "source": [
    "# Convert predictions to a NumPy array and ensure it's 1D\n",
    "train_response_pred = train_response_pred.values.reshape(-1)\n",
    "train_response_pred[:10]"
   ]
  },
  {
   "cell_type": "code",
   "execution_count": null,
   "id": "14419549-a390-4a6e-9c14-c60523866687",
   "metadata": {},
   "outputs": [],
   "source": [
    "# Convert predictions to a DataFrame\n",
    "train_response_pred_final = pd.DataFrame({\n",
    "    'converted': train_response.values,                      # Actual values\n",
    "    'Conversion_Prob': train_response_pred.flatten()         # Predicted probabilities\n",
    "})\n",
    "\n",
    "# Add the ID from the original index\n",
    "train_response_pred_final['ID'] = train_response.index\n",
    "\n",
    "# Convert probabilities to binary classifications \n",
    "train_response_pred_final['Convert'] = train_response_pred_final.Conversion_Prob.map(lambda x: 1 if x > 0.5 else 0)\n",
    "\n",
    "# Display the first few rows of the final DataFrame\n",
    "print(train_response_pred_final.head())"
   ]
  },
  {
   "cell_type": "markdown",
   "id": "7ddb08d4-efd8-416a-9c21-a9350204cd40",
   "metadata": {},
   "source": [
    "## Generating a Confusion Matrix"
   ]
  },
  {
   "cell_type": "code",
   "execution_count": null,
   "id": "9767c8bd-3848-4317-bcf4-394ffb49da2b",
   "metadata": {},
   "outputs": [],
   "source": [
    "# Generate confusion matrix\n",
    "confusion = confusion_matrix(train_response_pred_final['converted'], train_response_pred_final['Convert'], labels=[1, 0])\n",
    "\n",
    "# Print the confusion matrix\n",
    "print(\"Confusion Matrix:\\n\", confusion)\n",
    "# Calculate accuracy\n",
    "accuracy = accuracy_score(train_response_pred_final['converted'], train_response_pred_final['Convert'])\n",
    "\n",
    "# Print the accuracy\n",
    "print(f\"Accuracy: {accuracy * 100:.2f}%\")\n",
    "\n",
    "# Extract True Negatives(TN) ,False Positives(FP), False Negatives (FN) and True Positives (TP)\n",
    "TN = confusion[0, 0]  \n",
    "FP = confusion[0, 1]  \n",
    "FN = confusion[1, 0]  \n",
    "TP = confusion[1, 1]  \n",
    "\n",
    "# Calculate Sensitivity and Specificity\n",
    "sensitivity = TP / (TP + FN)\n",
    "specificity = TN / (TN + FP)\n",
    "\n",
    "# Calculate PPV (Precision) and NPV\n",
    "ppv = TP / (TP + FP) if (TP + FP) > 0 else 0\n",
    "npv = TN / (TN + FN) if (TN + FN) > 0 else 0\n",
    "\n",
    "# Print the results\n",
    "print(f\"Sensitivity: {sensitivity * 100:.2f}%\")\n",
    "print(f\"Specificity: {specificity * 100:.2f}%\")\n",
    "print(f\"Positive Predictive Value : {ppv * 100:.2f}%\")\n",
    "print(f\"Negative Predictive Value : {npv * 100:.2f}%\")"
   ]
  },
  {
   "cell_type": "markdown",
   "id": "da06b913-0085-48bc-a769-93ae4f40ae5b",
   "metadata": {},
   "source": [
    "## Evaluating the VIF (Variance Inflation Factor) values"
   ]
  },
  {
   "cell_type": "code",
   "execution_count": null,
   "id": "c0a8d6a0-9a01-4029-847e-69ee60ecde6a",
   "metadata": {},
   "outputs": [],
   "source": [
    "# Calculate VIF for the selected features\n",
    "vif_result = calculate_vif(train_features[selected_columns])\n",
    "\n",
    "# Display the VIF results\n",
    "vif_result"
   ]
  },
  {
   "cell_type": "code",
   "execution_count": null,
   "id": "fd3acb68-2a0d-475c-be3c-3ddbbdf88ef6",
   "metadata": {},
   "outputs": [],
   "source": [
    "# droping the collum for high VIF\n",
    "selected_columns=selected_columns.drop('What is your current occupation_Unemployed')\n",
    "print(selected_columns)"
   ]
  },
  {
   "cell_type": "code",
   "execution_count": null,
   "id": "814dda57-caac-485a-907f-8bfa0d826254",
   "metadata": {},
   "outputs": [],
   "source": [
    "# Summary\n",
    "train_features_sm = sm.add_constant( train_features[selected_columns])\n",
    "log_reg_6 = sm.GLM(train_response, train_features_sm, family = sm.families.Binomial())\n",
    "res = log_reg_6.fit()\n",
    "res.summary()"
   ]
  },
  {
   "cell_type": "code",
   "execution_count": null,
   "id": "cc12f505-9971-4e76-afce-27bd30afa48b",
   "metadata": {},
   "outputs": [],
   "source": [
    "# Make predictions on the training set\n",
    "train_response_pred = res.predict(train_features_sm)\n",
    "print(train_response_pred[:10])"
   ]
  },
  {
   "cell_type": "code",
   "execution_count": null,
   "id": "0e9541a7-887f-4cba-9087-4496c15286b1",
   "metadata": {},
   "outputs": [],
   "source": [
    "# Convert predictions to a NumPy array and ensure it's 1D\n",
    "train_response_pred = train_response_pred.values.reshape(-1)\n",
    "train_response_pred[:10]"
   ]
  },
  {
   "cell_type": "code",
   "execution_count": null,
   "id": "88815e46-7dcc-4742-8307-8bd56d835d00",
   "metadata": {},
   "outputs": [],
   "source": [
    "# Convert predictions to a DataFrame\n",
    "train_response_pred_final = pd.DataFrame({\n",
    "    'converted': train_response.values,                      # Actual values\n",
    "    'Conversion_Prob': train_response_pred.flatten()         # Predicted probabilities\n",
    "})\n",
    "\n",
    "# Add the ID from the original index\n",
    "train_response_pred_final['ID'] = train_response.index\n",
    "\n",
    "# Convert probabilities to binary classifications \n",
    "train_response_pred_final['Convert'] = train_response_pred_final.Conversion_Prob.map(lambda x: 1 if x > 0.5 else 0)\n",
    "\n",
    "# Display the first few rows of the final DataFrame\n",
    "print(train_response_pred_final.head())"
   ]
  },
  {
   "cell_type": "code",
   "execution_count": null,
   "id": "b1dd7550-02ca-4802-b021-44131badfa50",
   "metadata": {},
   "outputs": [],
   "source": [
    "# Generate confusion matrix\n",
    "confusion = confusion_matrix(train_response_pred_final['converted'], train_response_pred_final['Convert'], labels=[1, 0])\n",
    "\n",
    "# Print the confusion matrix\n",
    "print(\"Confusion Matrix:\\n\", confusion)\n",
    "# Calculate accuracy\n",
    "accuracy = accuracy_score(train_response_pred_final['converted'], train_response_pred_final['Convert'])\n",
    "\n",
    "# Print the accuracy\n",
    "print(f\"Accuracy: {accuracy * 100:.2f}%\")\n",
    "\n",
    "# Extract True Negatives(TN) ,False Positives(FP), False Negatives (FN) and True Positives (TP)\n",
    "TN = confusion[0, 0]  \n",
    "FP = confusion[0, 1]  \n",
    "FN = confusion[1, 0]  \n",
    "TP = confusion[1, 1]  \n",
    "\n",
    "# Calculate Sensitivity and Specificity\n",
    "sensitivity = TP / (TP + FN)\n",
    "specificity = TN / (TN + FP)\n",
    "\n",
    "# Calculate PPV (Precision) and NPV\n",
    "ppv = TP / (TP + FP) if (TP + FP) > 0 else 0\n",
    "npv = TN / (TN + FN) if (TN + FN) > 0 else 0\n",
    "\n",
    "# Print the results\n",
    "print(f\"Sensitivity: {sensitivity * 100:.2f}%\")\n",
    "print(f\"Specificity: {specificity * 100:.2f}%\")\n",
    "print(f\"Positive Predictive Value : {ppv * 100:.2f}%\")\n",
    "print(f\"Negative Predictive Value : {npv * 100:.2f}%\")"
   ]
  },
  {
   "cell_type": "code",
   "execution_count": null,
   "id": "19a187fb-c7c7-4d5c-9b69-4eae13439ed6",
   "metadata": {},
   "outputs": [],
   "source": [
    "# Calculate VIF for the selected features\n",
    "vif_result = calculate_vif(train_features[selected_columns])\n",
    "\n",
    "# Display the VIF results\n",
    "vif_result"
   ]
  },
  {
   "cell_type": "code",
   "execution_count": null,
   "id": "afabaff2-04b1-495c-9441-549338d7b3ee",
   "metadata": {},
   "outputs": [],
   "source": [
    "# All VIF are under 5."
   ]
  },
  {
   "cell_type": "markdown",
   "id": "f8f5aba5-4c7e-4ccf-858d-cb3393ccbd1b",
   "metadata": {},
   "source": [
    "#### Above model has p values less than 0.5 for all vars and VIF less than 5"
   ]
  },
  {
   "cell_type": "markdown",
   "id": "a3b3f60b-bdc4-4263-8e99-e9bb0d5d6c1a",
   "metadata": {},
   "source": [
    "## ROC curve"
   ]
  },
  {
   "cell_type": "code",
   "execution_count": null,
   "id": "ab3d3867-98ee-4170-9f48-c6700d027f7d",
   "metadata": {},
   "outputs": [],
   "source": [
    "from sklearn.metrics import roc_curve, auc\n",
    "\n",
    "# Calculate ROC curve\n",
    "fpr, tpr, thresholds = roc_curve( train_response_pred_final.converted, train_response_pred_final.Conversion_Prob, drop_intermediate = False)\n",
    "\n",
    "# Calculate AUC\n",
    "roc_auc = auc(fpr, tpr)\n",
    "\n",
    "# Plot ROC curve\n",
    "plt.figure(figsize=(8, 6))\n",
    "plt.plot(fpr, tpr, color='blue', label='ROC curve (area = {:.2f})'.format(roc_auc))\n",
    "plt.plot([0, 1], [0, 1], color='red', linestyle='--')  # Diagonal line\n",
    "plt.xlim([0.0, 1.0])\n",
    "plt.ylim([0.0, 1.0])\n",
    "plt.xlabel('False Positive Rate')\n",
    "plt.ylabel('True Positive Rate')\n",
    "plt.title('Receiver Operating Characteristic (ROC) Curve')\n",
    "plt.legend(loc='lower right')\n",
    "plt.grid()\n",
    "plt.show()"
   ]
  },
  {
   "cell_type": "markdown",
   "id": "c086fe37-c372-4219-99b6-20223d427f72",
   "metadata": {},
   "source": [
    "##  Optimal Cutoff Point"
   ]
  },
  {
   "cell_type": "code",
   "execution_count": null,
   "id": "d71db4c3-0f05-4fce-ab16-b77ecb871c0b",
   "metadata": {},
   "outputs": [],
   "source": [
    "# Generate cutoff probabilities\n",
    "cutoff_values = [float(x) / 10 for x in range(10)]\n",
    "for cutoff in cutoff_values:\n",
    "    train_response_pred_final[cutoff] = train_response_pred_final.Conversion_Prob.map(lambda x: 1 if x > cutoff else 0)\n",
    "train_response_pred_final.head(10)"
   ]
  },
  {
   "cell_type": "code",
   "execution_count": null,
   "id": "95795187-e599-4d0a-a669-74a5d6dcb357",
   "metadata": {},
   "outputs": [],
   "source": [
    "# Initialize DataFrame to store metrics\n",
    "cutoff_df = pd.DataFrame(columns=['probability', 'accuracy', 'sensitivity', 'specificity'])\n",
    "\n",
    "# Calculate metrics for each cutoff\n",
    "for cutoff in cutoff_values:\n",
    "    cm = confusion_matrix(train_response_pred_final.converted, train_response_pred_final[cutoff])\n",
    "    total = np.sum(cm)\n",
    "    \n",
    "    # Avoid division by zero\n",
    "    accuracy = (cm[0, 0] + cm[1, 1]) / total if total > 0 else 0\n",
    "    specificity = cm[0, 0] / (cm[0, 0] + cm[0, 1]) if (cm[0, 0] + cm[0, 1]) > 0 else 0\n",
    "    sensitivity = cm[1, 1] / (cm[1, 0] + cm[1, 1]) if (cm[1, 0] + cm[1, 1]) > 0 else 0\n",
    "    \n",
    "    cutoff_df.loc[cutoff] = [cutoff, accuracy, sensitivity, specificity]\n",
    "\n",
    "# Display the cutoff DataFrame\n",
    "print(cutoff_df)"
   ]
  },
  {
   "cell_type": "code",
   "execution_count": null,
   "id": "cf766c94-8aff-4869-b291-242e8fbc4ca0",
   "metadata": {},
   "outputs": [],
   "source": [
    "# Plot the metrics\n",
    "cutoff_df.plot.line(x='probability', y=['accuracy', 'sensitivity', 'specificity'], marker='o')\n",
    "plt.title('Metrics vs. Cutoff Probability')\n",
    "plt.xlabel('Cutoff Probability')\n",
    "plt.ylabel('Metric Value')\n",
    "plt.grid()\n",
    "plt.show()"
   ]
  },
  {
   "cell_type": "code",
   "execution_count": null,
   "id": "9fca8fa6-ce9f-4808-9bec-8fefdc66d800",
   "metadata": {},
   "outputs": [],
   "source": [
    "# Map predicted probabilities to binary outcomes based on the chosen cutoff\n",
    "train_response_pred_final['final_predicted'] = train_response_pred_final.Conversion_Prob.map(lambda x: 1 if x > 0.35 else 0)\n",
    "\n",
    "# Display the first few rows to verify the changes\n",
    "train_response_pred_final.head()"
   ]
  },
  {
   "cell_type": "code",
   "execution_count": null,
   "id": "e41f7041-10b7-4df0-b886-6a51b7c57583",
   "metadata": {},
   "outputs": [],
   "source": [
    "# Generate Lead Score\n",
    "train_response_pred_final['Lead_Score'] = train_response_pred_final.Conversion_Prob.map(lambda x: round(x*100))\n",
    "train_response_pred_final.head()"
   ]
  },
  {
   "cell_type": "code",
   "execution_count": null,
   "id": "79aede53-3154-414b-a782-2f0dc36d3ffe",
   "metadata": {},
   "outputs": [],
   "source": [
    "# Generate confusion matrix\n",
    "confusion_1 = confusion_matrix(train_response_pred_final['converted'], train_response_pred_final['Convert'], labels=[1, 0])\n",
    "\n",
    "# Print the confusion matrix\n",
    "print(\"Confusion Matrix:\\n\", confusion_1)\n",
    "# Calculate accuracy\n",
    "accuracy_1 = accuracy_score(train_response_pred_final['converted'], train_response_pred_final['Convert'])\n",
    "\n",
    "# Print the accuracy\n",
    "print(f\"Accuracy: {accuracy_1 * 100:.2f}%\")\n",
    "\n",
    "# Extract True Negatives(TN) ,False Positives(FP), False Negatives (FN) and True Positives (TP)\n",
    "TN = confusion_1[0, 0]  \n",
    "FP = confusion_1[0, 1]  \n",
    "FN = confusion_1[1, 0]  \n",
    "TP = confusion_1[1, 1]  \n",
    "\n",
    "# Calculate Sensitivity and Specificity\n",
    "sensitivity = TP / (TP + FN)\n",
    "specificity = TN / (TN + FP)\n",
    "\n",
    "# Calculate PPV (Precision) and NPV\n",
    "ppv = TP / (TP + FP) if (TP + FP) > 0 else 0\n",
    "npv = TN / (TN + FN) if (TN + FN) > 0 else 0\n",
    "\n",
    "# Print the results\n",
    "print(f\"Sensitivity: {sensitivity * 100:.2f}%\")\n",
    "print(f\"Specificity: {specificity * 100:.2f}%\")\n",
    "print(f\"Positive Predictive Value : {ppv * 100:.2f}%\")\n",
    "print(f\"Negative Predictive Value : {npv * 100:.2f}%\")"
   ]
  },
  {
   "cell_type": "markdown",
   "id": "af27dadc-a70f-4bf1-b527-cf35301fb7e0",
   "metadata": {},
   "source": [
    "# Making Predictions on the Test Dataset"
   ]
  },
  {
   "cell_type": "code",
   "execution_count": null,
   "id": "27f2d16b-da72-4e0d-bfec-5b1ad382680b",
   "metadata": {},
   "outputs": [],
   "source": [
    "test_features.head()"
   ]
  },
  {
   "cell_type": "code",
   "execution_count": null,
   "id": "0e7924e2-9b4a-4581-8ebf-25924668e515",
   "metadata": {},
   "outputs": [],
   "source": [
    "from sklearn.pipeline import Pipeline\n",
    "\n",
    "# Create a pipeline for scaling\n",
    "scaling_pipeline = Pipeline([\n",
    "    ('scaler', StandardScaler())\n",
    "])\n",
    "\n",
    "# Fit the scaler on the training data and transform the test data\n",
    "test_features_scaled = scaling_pipeline.fit(test_features[['TotalVisits', 'Total Time Spent on Website', 'Page Views Per Visit']]).transform(test_features[['TotalVisits', 'Total Time Spent on Website', 'Page Views Per Visit']])\n",
    "\n",
    "# Assign scaled values back to test_features\n",
    "test_features[['TotalVisits', 'Total Time Spent on Website', 'Page Views Per Visit']] = test_features_scaled"
   ]
  },
  {
   "cell_type": "code",
   "execution_count": null,
   "id": "0ab13642-fc0f-4060-92ca-e57518a2555c",
   "metadata": {},
   "outputs": [],
   "source": [
    "test_features=test_features[selected_columns]\n",
    "test_features"
   ]
  },
  {
   "cell_type": "code",
   "execution_count": null,
   "id": "c48ba958-1fb1-413a-bc27-1bc79bb7c3e3",
   "metadata": {},
   "outputs": [],
   "source": [
    "# Make predictions on the Test data\n",
    "test_features_scaled= sm.add_constant(test_features)\n",
    "test_response_prediction = res.predict(test_features_scaled)\n",
    "test_response_prediction[:10]"
   ]
  },
  {
   "cell_type": "code",
   "execution_count": null,
   "id": "c5badd82-6162-4d4a-9ef8-85eae99c8599",
   "metadata": {},
   "outputs": [],
   "source": [
    "test_response_prediction_final = pd.DataFrame(test_response_prediction)\n",
    "test_response_prediction_final.head()"
   ]
  },
  {
   "cell_type": "code",
   "execution_count": null,
   "id": "adfbb884-c9ab-4a6e-a951-2063601ef540",
   "metadata": {},
   "outputs": [],
   "source": [
    "# Create DataFrame for test_response and assign the predicted values\n",
    "test_response_df = pd.DataFrame({'Converted': test_response})\n",
    "test_response_df['ID'] = test_response_df.index\n",
    "\n",
    "# Reset the index of y_pred_1\n",
    "test_response_prediction_final .reset_index(drop=True, inplace=True)\n",
    "\n",
    "# Use assign to add predictions\n",
    "test_response_final = test_response_df.assign(Predicted=test_response_prediction_final.values)"
   ]
  },
  {
   "cell_type": "code",
   "execution_count": null,
   "id": "ec70af2f-11b8-48d3-ab4d-98ff16a0499d",
   "metadata": {},
   "outputs": [],
   "source": [
    "test_response_final.head()"
   ]
  },
  {
   "cell_type": "code",
   "execution_count": null,
   "id": "7906f377-628f-41b0-a233-19c85d312f0d",
   "metadata": {},
   "outputs": [],
   "source": [
    "test_response_final['final_predicted'] = test_response_final.Predicted.map(lambda x: 1 if x > 0.35 else 0)"
   ]
  },
  {
   "cell_type": "code",
   "execution_count": null,
   "id": "f4e583bf-c2f9-42f1-a8b0-807810334ac3",
   "metadata": {},
   "outputs": [],
   "source": [
    "test_response_final.head()\n"
   ]
  },
  {
   "cell_type": "code",
   "execution_count": null,
   "id": "12131152-4e25-4706-b049-6e46d911d7c6",
   "metadata": {},
   "outputs": [],
   "source": [
    "# Generate Lead Score\n",
    "test_response_final['Lead_Score'] = test_response_final.Predicted.map(lambda x: round(x*100))\n",
    "test_response_final.head()"
   ]
  },
  {
   "cell_type": "code",
   "execution_count": null,
   "id": "da739aab-e00d-406c-a712-1f8ab587d638",
   "metadata": {},
   "outputs": [],
   "source": [
    "# Generate confusion matrix\n",
    "confusion_2 = confusion_matrix(test_response_final['Converted'], test_response_final['final_predicted'], labels=[1, 0])\n",
    "\n",
    "# Print the confusion matrix\n",
    "print(\"Confusion Matrix:\\n\", confusion_2)\n",
    "# Calculate accuracy\n",
    "accuracy_2 = accuracy_score(test_response_final['Converted'], test_response_final['final_predicted'])\n",
    "\n",
    "# Print the accuracy\n",
    "print(f\"Accuracy: {accuracy_2 * 100:.2f}%\")\n",
    "\n",
    "# Extract True Negatives(TN) ,False Positives(FP), False Negatives (FN) and True Positives (TP)\n",
    "TN = confusion_2[0, 0]  \n",
    "FP = confusion_2[0, 1]  \n",
    "FN = confusion_2[1, 0]  \n",
    "TP = confusion_2[1, 1]  \n",
    "\n",
    "# Calculate Sensitivity and Specificity\n",
    "sensitivity = TP / (TP + FN)\n",
    "specificity = TN / (TN + FP)\n",
    "\n",
    "# Calculate PPV (Precision) and NPV\n",
    "ppv = TP / (TP + FP) if (TP + FP) > 0 else 0\n",
    "npv = TN / (TN + FN) if (TN + FN) > 0 else 0\n",
    "\n",
    "# Print the results\n",
    "print(f\"Sensitivity: {sensitivity * 100:.2f}%\")\n",
    "print(f\"Specificity: {specificity * 100:.2f}%\")\n",
    "print(f\"Positive Predictive Value : {ppv * 100:.2f}%\")\n",
    "print(f\"Negative Predictive Value : {npv * 100:.2f}%\")"
   ]
  },
  {
   "cell_type": "markdown",
   "id": "42f0624e-95a9-497e-af84-8be544c21503",
   "metadata": {},
   "source": [
    "#### Train Vs Test\n",
    "\n",
    "> Train\n",
    "- Accuracy: 81.80%\n",
    "- Sensitivity: 88.58%\n",
    "- Specificity: 70.97%\n",
    "  \n",
    "> Test\n",
    "- Accuracy: 80.72%\n",
    "- Sensitivity: 81.14%\n",
    "- Specificity: 79.98%"
   ]
  },
  {
   "cell_type": "code",
   "execution_count": null,
   "id": "0c985db8-92b4-4894-a602-cbdb5fb709b6",
   "metadata": {},
   "outputs": [],
   "source": [
    "# Get features contribution "
   ]
  },
  {
   "cell_type": "code",
   "execution_count": null,
   "id": "4da595f1-294f-42a6-97f6-60b750ae84a9",
   "metadata": {},
   "outputs": [],
   "source": [
    "res.params.sort_values(ascending=False)"
   ]
  },
  {
   "cell_type": "markdown",
   "id": "07139327-78c5-47c6-a56d-20c112e4cd38",
   "metadata": {},
   "source": [
    "### Recommendation "
   ]
  },
  {
   "cell_type": "markdown",
   "id": "2b30e4f5-b469-42f0-b0e9-31313dadfbe3",
   "metadata": {},
   "source": [
    "- The company should make calls to the leads coming from the lead sources \"Welingak Websites\" & \"Reference\" as these are more likely to get converted.\n",
    "- Also to working professionals\n",
    "- Also whoes last activity SMS sent or others\n",
    "- Also who spend more time on website\n",
    "- Also leads coming from Olark Chat\n",
    "- The company should not make calls to the leads whose last activity was \"Olark Chat Conversation\" as they are not likely to get converted.\n",
    "- Or should not make call to leads coming from Landing page submission\n",
    "- Or those leads whoes do not email is active"
   ]
  },
  {
   "cell_type": "code",
   "execution_count": null,
   "id": "a2bc27c5-636a-4b17-b56b-3bd46313248b",
   "metadata": {},
   "outputs": [],
   "source": []
  }
 ],
 "metadata": {
  "kernelspec": {
   "display_name": "Python 3 (ipykernel)",
   "language": "python",
   "name": "python3"
  },
  "language_info": {
   "codemirror_mode": {
    "name": "ipython",
    "version": 3
   },
   "file_extension": ".py",
   "mimetype": "text/x-python",
   "name": "python",
   "nbconvert_exporter": "python",
   "pygments_lexer": "ipython3",
   "version": "3.11.8"
  }
 },
 "nbformat": 4,
 "nbformat_minor": 5
}
